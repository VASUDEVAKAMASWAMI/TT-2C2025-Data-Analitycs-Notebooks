{
  "nbformat": 4,
  "nbformat_minor": 0,
  "metadata": {
    "colab": {
      "provenance": [],
      "authorship_tag": "ABX9TyMJ9CvrE/FO/liZt+0qeSkf",
      "include_colab_link": true
    },
    "kernelspec": {
      "name": "python3",
      "display_name": "Python 3"
    },
    "language_info": {
      "name": "python"
    }
  },
  "cells": [
    {
      "cell_type": "markdown",
      "metadata": {
        "id": "view-in-github",
        "colab_type": "text"
      },
      "source": [
        "<a href=\"https://colab.research.google.com/github/VASUDEVAKAMASWAMI/TT-2C2025-Data-Analitycs-Notebooks/blob/main/pre_entrega.ipynb\" target=\"_parent\"><img src=\"https://colab.research.google.com/assets/colab-badge.svg\" alt=\"Open In Colab\"/></a>"
      ]
    },
    {
      "cell_type": "code",
      "execution_count": null,
      "metadata": {
        "id": "4a8iMvDHV7-j"
      },
      "outputs": [],
      "source": [
        "PRE-ENTREGA (Análisis de datos con Pyhon)\n",
        "Julio Carossella - 11.180.709"
      ]
    },
    {
      "cell_type": "markdown",
      "source": [
        "Etapa 1: Recopilación y Preparación de Datos (Clases 1 a 4)\n",
        "Objetivo: Demostrar habilidades en Python, familiaridad con el entorno de trabajo y conocimientos básicos sobre manipulación de datos."
      ],
      "metadata": {
        "id": "pAqIYSviWRDh"
      }
    },
    {
      "cell_type": "markdown",
      "source": [
        "### Actividad 1\n",
        "Crear un documento en Google Colaboratory y cargar los sets de datos como DataFrames."
      ],
      "metadata": {
        "id": "zKXDYIFZWgsa"
      }
    },
    {
      "cell_type": "code",
      "source": [
        "import pandas as pd\n"
      ],
      "metadata": {
        "id": "TEVuAi9rWlaT"
      },
      "execution_count": null,
      "outputs": []
    },
    {
      "cell_type": "code",
      "source": [
        "# Importar dataset ventas\n",
        "df_ventas = pd.read_csv(\"https://raw.githubusercontent.com/VASUDEVAKAMASWAMI/TT-2C2025-Data-Analitycs-Notebooks/refs/heads/main/PreEntrega/Datasets/ventas.csv\")"
      ],
      "metadata": {
        "id": "CQKjk4tXZt09"
      },
      "execution_count": null,
      "outputs": []
    },
    {
      "cell_type": "code",
      "source": [
        "# Importar dataset clientes\n",
        "df_clientes = pd.read_csv(\"https://raw.githubusercontent.com/VASUDEVAKAMASWAMI/TT-2C2025-Data-Analitycs-Notebooks/refs/heads/main/PreEntrega/Datasets/clientes.csv\")"
      ],
      "metadata": {
        "id": "dD2PBDcouOni"
      },
      "execution_count": null,
      "outputs": []
    },
    {
      "cell_type": "code",
      "source": [
        "# Importar dataset marketing\n",
        "df_marketing = pd.read_csv(\"https://raw.githubusercontent.com/VASUDEVAKAMASWAMI/TT-2C2025-Data-Analitycs-Notebooks/refs/heads/main/PreEntrega/Datasets/marketing.csv\")"
      ],
      "metadata": {
        "id": "Z7xMFswbuUdz"
      },
      "execution_count": null,
      "outputs": []
    },
    {
      "cell_type": "code",
      "source": [
        "# Comprobación importación del dataset ventas (retornar primeras cinco filas)\n",
        "df_ventas.head()"
      ],
      "metadata": {
        "id": "naLg_EA2cFUU"
      },
      "execution_count": null,
      "outputs": []
    },
    {
      "cell_type": "code",
      "source": [
        "# Comprobación importación del dataset clientes (retornar primeras cinco filas)\n",
        "df_clientes.head()"
      ],
      "metadata": {
        "id": "mteLAWawcsiW"
      },
      "execution_count": null,
      "outputs": []
    },
    {
      "cell_type": "code",
      "source": [
        "# Comprobación importación del dataset marketing (retornar primeras cinco filas)\n",
        "df_marketing.head()"
      ],
      "metadata": {
        "id": "lafm2mZWcupo"
      },
      "execution_count": null,
      "outputs": []
    },
    {
      "cell_type": "markdown",
      "source": [
        "### Actividad 2:  Script básico\n",
        "Realizar un script básico que calcule las ventas mensuales utilizando variables y operadores"
      ],
      "metadata": {
        "id": "v0sC7Z_I3slJ"
      }
    },
    {
      "cell_type": "code",
      "source": [
        "\n",
        "# Generación de una lista de diccionarios\n",
        "ventas = [\n",
        "  {'producto': 'notebook', 'precio': 1500.0, 'cantidad': 3, 'fecha_venta': \"21/01/2024\"},\n",
        "  {'producto': 'disco sólido 15GB', 'precio': 20000.0, 'cantidad': 5, 'fecha_venta': \"28/01/2024\"},\n",
        "  {'producto': 'monitor', 'precio': 500.0, 'cantidad': 5, 'fecha_venta': \"25/02/2024\"},\n",
        "  {'producto': 'mouse', 'precio': 20.0, 'cantidad': 15, 'fecha_venta': \"02/03/2024\"},\n",
        "  {'producto': 'cooler', 'precio': 500.0, 'cantidad': 3, 'fecha_venta': \"03/04/2024\"},\n",
        "  {'producto': 'cable usb', 'precio': 500.0, 'cantidad': 5, 'fecha_venta': \"10/05/2024\"},\n",
        "  {'producto': 'memoria usb', 'precio': 500.0, 'cantidad': 25, 'fecha_venta': \"11/06/2024\"},\n",
        "  {'producto': 'disco rígido 1GB', 'precio': 1000.0, 'cantidad': 5, 'fecha_venta': \"15/07/2024\"},\n",
        "  {'producto': 'disco rígido 2GB', 'precio': 2000.0, 'cantidad': 6, 'fecha_venta': \"29/08/2024\"},\n",
        "  {'producto': 'disco rígido 4GB', 'precio': 4000.0, 'cantidad': 8, 'fecha_venta': \"23/09/2024\"},\n",
        "  {'producto': 'disco sólido 50GB', 'precio': 10000.0, 'cantidad': 5, 'fecha_venta': \"05/10/2024\"},\n",
        "  {'producto': 'disco sólido 100GB', 'precio': 15000.0, 'cantidad': 15, 'fecha_venta': \"17/11/2024\"},\n",
        "  {'producto': 'disco sólido 15GB', 'precio': 20000.0, 'cantidad': 1, 'fecha_venta': \"22/12/2024\"},\n",
        "  {'producto': 'disco sólido 20GB', 'precio': 25000.0, 'cantidad': 1, 'fecha_venta': \"27/12/2024\"}\n",
        "  ]\n"
      ],
      "metadata": {
        "id": "UaVozVWU6tIF"
      },
      "execution_count": null,
      "outputs": []
    },
    {
      "cell_type": "code",
      "source": [
        "\n",
        "# creamos el diccionario vacío ventas_mensuales\n",
        "ventas_mensuales={}\n",
        "\n",
        "# Recorremos el diccionario ventas y ubicamos las ventas  correspondientes a cada mes range(1,13)\n",
        "# Si el índice correspondiente al mes ya se encuentra en el diccionario sumamos el p*q, y si no está, entonces agregamos el producto p*q para ese índice (mes)\n",
        "for venta in ventas:\n",
        "  for m in range(1,13):\n",
        "    if (int(venta[\"fecha_venta\"].split(\"/\")[1]))==m:\n",
        "      if m in ventas_mensuales:\n",
        "        ventas_mensuales[m] += venta[\"precio\"] * venta[\"cantidad\"]\n",
        "      else:\n",
        "        ventas_mensuales[m] = venta[\"precio\"] * venta[\"cantidad\"]\n",
        "# Ordenamos el diccionario ventas_mensuales por su índice (mes) y finalmente imprimimos el diccionario\n",
        "\n",
        "ventas_mensuales = dict(sorted(ventas_mensuales.items()))\n",
        "ventas_mensuales\n"
      ],
      "metadata": {
        "id": "LqBosNPQPkTP"
      },
      "execution_count": null,
      "outputs": []
    },
    {
      "cell_type": "markdown",
      "source": [
        "### Actividad 3: Estructuras de Datos\n",
        "\n",
        "Desarrollar un programa que almacene los datos de ventas (producto, precio, cantidad). Decidir si conviene utilizar diccionarios o listas."
      ],
      "metadata": {
        "id": "GF5uDiPx4qNh"
      }
    },
    {
      "cell_type": "markdown",
      "source": [
        "### Actividad 4: Introducción a Pandas\n",
        "\n",
        "Realizar un análisis exploratorio inicial de los DataFrames.\n",
        "\n",
        "El objetivo del análisis exploratorio de datos (EDA) es evaluar conjuntos de datos para resumir sus características principales, descubrir patrones, detectar anomalías y verificar hipótesis y/o suposiciones.\n",
        "\n",
        "Algunos de los principales métodos EDA que hemos estudiado son: info, columns, dtypes, head, tail, sample, unique, value_counts, describe, duplicated, isnull.\n"
      ],
      "metadata": {
        "id": "_G9pR3_k58X6"
      }
    },
    {
      "cell_type": "markdown",
      "source": [
        "# DATAFRAME ventas\n",
        "##Análisis exploratorio de datos"
      ],
      "metadata": {
        "id": "bjv2Jv5gbHcS"
      }
    },
    {
      "cell_type": "code",
      "source": [
        "#  El método info() no devuelve ningún valor, sólo imprime información sobre el DataFrame.\n",
        "# Dicha información incluye el número de columnas (3035), las etiquetas de las columnas (\"id_venta\", \"producto\", \"precio\", \"cantidad\", \"fecha_venta\" y \"categoría\"), los tipos de datos de las columnas (int64, objecto, float64),\n",
        "# el uso de la memoria (142.4+ K), el índice de rango (RangeIndex: 0,1,2...) y el número de celdas en cada columna (valores no nulos).\n",
        "# OBSERVACIONES:  las columnas \"precio\" y \"cantidad\" poseen dos valores nulos\n",
        "df_ventas.info()\n",
        "\n",
        ""
      ],
      "metadata": {
        "id": "w2VogDGPs6kW"
      },
      "execution_count": null,
      "outputs": []
    },
    {
      "cell_type": "code",
      "source": [
        "# El método head(n) devuelve los encabezados y el número especificado (n) de filas del DataFrame. Si no se especifica el n, por defecto devuelve las primeras cinco filas.\n",
        "# El método tail(n) permite visualizar los encabezados y las últimas n filas del DataFrame. Si no se especifica el n, por defecto devuelve las últimas cinco filas.\n",
        "#df_ventas.head()\n",
        "df_ventas.tail(10)"
      ],
      "metadata": {
        "id": "PqmBJL5Ps75e"
      },
      "execution_count": null,
      "outputs": []
    },
    {
      "cell_type": "code",
      "source": [
        "# El método sample(n) devuelve los encabezados y n registros al azar.  Si no se especifica el n, por defecto devuelve  sólo una fila.\n",
        "df_ventas.sample(3)"
      ],
      "metadata": {
        "id": "makKW4K-tB4m"
      },
      "execution_count": null,
      "outputs": []
    },
    {
      "cell_type": "code",
      "source": [
        "# El método .sample(n) permite muestrear sólo una o algunas columnas especificadas a través de una lista.\n",
        "#df_ventas[\"producto\"].sample(5)\n",
        "df_ventas[[\"producto\",\"precio\"]].sample(5)"
      ],
      "metadata": {
        "id": "0f3ybDnvtEbm"
      },
      "execution_count": null,
      "outputs": []
    },
    {
      "cell_type": "code",
      "source": [
        "# el método .describe() de los dataframes presenta un resumen de la estadistica descriptiva general de las columnas numericas del dataframe:\n",
        "#Promedio (mean)\n",
        "#Desviacion estandard (std)\n",
        "#Valor minimo\n",
        "#Valor maximo\n",
        "#Cuartiles (25%, 50% y 75%)\n",
        "df_ventas.describe()"
      ],
      "metadata": {
        "id": "5vZPdD9MSzM7"
      },
      "execution_count": null,
      "outputs": []
    },
    {
      "cell_type": "code",
      "source": [
        "# Muestreo al azar de la columna o Series \"fecha_venta\"\n",
        "df_ventas[\"fecha_venta\"].sample(5)"
      ],
      "metadata": {
        "id": "5YlmCY0HtK4w"
      },
      "execution_count": null,
      "outputs": []
    },
    {
      "cell_type": "code",
      "source": [
        "# Análisis de la columna o Series \"categoria\"\n",
        "# El método value_counts()\tretorna el número de filas únicas\n",
        "#df_ventas[\"categoria\"].value_counts()\n",
        "\n",
        "# El métod .unique() extrae los diferentes valores de una Series  (o columna única de un DF). Devuelve un array NumPy conteniendo los valores únicos en orden de aparición.\n",
        "df_ventas[\"categoria\"].unique()"
      ],
      "metadata": {
        "id": "AETuK4bbtNqQ"
      },
      "execution_count": null,
      "outputs": []
    },
    {
      "cell_type": "markdown",
      "source": [],
      "metadata": {
        "id": "GwDCCIHBb_H0"
      }
    },
    {
      "cell_type": "markdown",
      "source": [
        "# DATAFRAME clientes\n",
        "##Análisis exploratorio de datos"
      ],
      "metadata": {
        "id": "6AuS3BSbb_oD"
      }
    },
    {
      "cell_type": "code",
      "source": [
        "#  El método info() no devuelve ningún valor, sólo imprime información sobre el DataFrame.\n",
        "# Dicha información incluye el número de columnas (3035), las etiquetas de las columnas (\"id_venta\", \"producto\", \"precio\", \"cantidad\", \"fecha_venta\" y \"categoría\"), los tipos de datos de las columnas (int64, objecto, float64),\n",
        "# el uso de la memoria (142.4+ K), el índice de rango (RangeIndex: 0,1,2...) y el número de celdas en cada columna (valores no nulos).\n",
        "# OBSERVACIONES:  las columnas \"precio\" y \"cantidad\" poseen dos valores nulos\n",
        "df_clientes.info()\n",
        "\n"
      ],
      "metadata": {
        "id": "4ye5OoDLcGdX"
      },
      "execution_count": null,
      "outputs": []
    },
    {
      "cell_type": "code",
      "source": [
        "# El método head(n) devuelve los encabezados y el número especificado (n) de filas del DataFrame. Si no se especifica el n, por defecto devuelve las primeras cinco filas.\n",
        "# El método tail(n) permite visualizar los encabezados y las últimas n filas del DataFrame. Si no se especifica el n, por defecto devuelve las últimas cinco filas.\n",
        "#df_clientes.head()\n",
        "df_clientes.tail(10)"
      ],
      "metadata": {
        "id": "hBWD7CfBcY7f"
      },
      "execution_count": null,
      "outputs": []
    },
    {
      "cell_type": "code",
      "source": [
        "# El método sample(n) devuelve los encabezados y n registros al azar.  Si no se especifica el n, por defecto devuelve  sólo una fila.\n",
        "df_clientes.sample(3)"
      ],
      "metadata": {
        "id": "2PHB3hDXcfbC"
      },
      "execution_count": null,
      "outputs": []
    },
    {
      "cell_type": "code",
      "source": [
        "# El método .sample(n) permite muestrear sólo una o algunas columnas especificadas a través de una lista.\n",
        "#df_clientes[\"edad\"].sample(5)\n",
        "df_clientes[[\"nombre\",\"edad\"]].sample(5)"
      ],
      "metadata": {
        "id": "QS-z8QJicjwV"
      },
      "execution_count": null,
      "outputs": []
    },
    {
      "cell_type": "code",
      "source": [
        "# el método .describe() de los dataframes presenta un resumen de la estadistica descriptiva general de las columnas numericas del dataframe:\n",
        "#Promedio (mean)\n",
        "#Desviacion estandard (std)\n",
        "#Valor minimo\n",
        "#Valor maximo\n",
        "#Cuartiles (25%, 50% y 75%)\n",
        "df_clientes.describe()"
      ],
      "metadata": {
        "id": "ByaRh9Qbco8n"
      },
      "execution_count": null,
      "outputs": []
    },
    {
      "cell_type": "code",
      "source": [
        "# Muestreo al azar de la columna o Series \"ciudad\"\n",
        "df_clientes[\"ciudad\"].sample(5)"
      ],
      "metadata": {
        "id": "SFi655kRctot"
      },
      "execution_count": null,
      "outputs": []
    },
    {
      "cell_type": "code",
      "source": [
        "# Análisis de la columna o Series \"ciudad\"\n",
        "# El método value_counts()\tretorna el número de filas únicas\n",
        "#df_clientes[\"ciudad\"].value_counts()\n",
        "\n",
        "# El métod .unique() extrae los diferentes valores de una Series  (o columna única de un DF). Devuelve un array NumPy conteniendo los valores únicos en orden de aparición.\n",
        "df_clientes[\"ciudad\"].unique()"
      ],
      "metadata": {
        "id": "zTUthCsxc5Q_"
      },
      "execution_count": null,
      "outputs": []
    },
    {
      "cell_type": "markdown",
      "source": [],
      "metadata": {
        "id": "dSOqOerNd5m8"
      }
    },
    {
      "cell_type": "markdown",
      "source": [
        "# DATAFRAME marketing\n",
        "##Análisis exploratorio de datos"
      ],
      "metadata": {
        "id": "Yf0cNxZrd6Df"
      }
    },
    {
      "cell_type": "code",
      "source": [
        "#  El método info() no devuelve ningún valor, sólo imprime información sobre el DataFrame.\n",
        "# Dicha información incluye el número de columnas (3035), las etiquetas de las columnas (\"id_venta\", \"producto\", \"precio\", \"cantidad\", \"fecha_venta\" y \"categoría\"), los tipos de datos de las columnas (int64, objecto, float64),\n",
        "# el uso de la memoria (142.4+ K), el índice de rango (RangeIndex: 0,1,2...) y el número de celdas en cada columna (valores no nulos).\n",
        "# OBSERVACIONES:  las columnas \"precio\" y \"cantidad\" poseen dos valores nulos\n",
        "df_marketing.info()\n",
        "\n"
      ],
      "metadata": {
        "id": "-nTMJgr0eHoG"
      },
      "execution_count": null,
      "outputs": []
    },
    {
      "cell_type": "code",
      "source": [
        "# El método head(n) devuelve los encabezados y el número especificado (n) de filas del DataFrame. Si no se especifica el n, por defecto devuelve las primeras cinco filas.\n",
        "# El método tail(n) permite visualizar los encabezados y las últimas n filas del DataFrame. Si no se especifica el n, por defecto devuelve las últimas cinco filas.\n",
        "#df_marketing.head()\n",
        "df_marketing.tail(10)"
      ],
      "metadata": {
        "id": "zyoThJFoeOB2"
      },
      "execution_count": null,
      "outputs": []
    },
    {
      "cell_type": "code",
      "source": [
        "# El método sample(n) devuelve los encabezados y n registros al azar.  Si no se especifica el n, por defecto devuelve  sólo una fila.\n",
        "df_marketing.sample(3)"
      ],
      "metadata": {
        "id": "bMcDaMoheSn-"
      },
      "execution_count": null,
      "outputs": []
    },
    {
      "cell_type": "code",
      "source": [
        "# El método .sample(n) permite muestrear sólo una o algunas columnas especificadas a través de una lista.\n",
        "#df_marketing[\"id_campaha\"].sample(5)\n",
        "df_marketing[[\"producto\",\"canal\"]].sample(5)"
      ],
      "metadata": {
        "id": "R1VAj4p5eZTl"
      },
      "execution_count": null,
      "outputs": []
    },
    {
      "cell_type": "code",
      "source": [
        "# el método .describe() de los dataframes presenta un resumen de la estadistica descriptiva general de las columnas numericas del dataframe:\n",
        "#Promedio (mean)\n",
        "#Desviacion estandard (std)\n",
        "#Valor minimo\n",
        "#Valor maximo\n",
        "#Cuartiles (25%, 50% y 75%)\n",
        "df_marketing.describe()"
      ],
      "metadata": {
        "id": "QbhfZoJsefgR"
      },
      "execution_count": null,
      "outputs": []
    },
    {
      "cell_type": "code",
      "source": [
        "# Muestreo al azar de la columna o Series \"costo\"\n",
        "df_marketing[\"costo\"].sample(5)"
      ],
      "metadata": {
        "id": "gPDDdYZeekJx"
      },
      "execution_count": null,
      "outputs": []
    },
    {
      "cell_type": "code",
      "source": [
        "# Análisis de la columna o Series \"producto\"\n",
        "# El método value_counts()\tretorna el número de filas únicas\n",
        "#df_ventas[\"producto\"].value_counts()\n",
        "\n",
        "# El métod .unique() extrae los diferentes valores de una Series  (o columna única de un DF). Devuelve un array NumPy conteniendo los valores únicos en orden de aparición.\n",
        "df_marketing[\"producto\"].unique()"
      ],
      "metadata": {
        "id": "SBg0ZRo8eon8"
      },
      "execution_count": null,
      "outputs": []
    },
    {
      "cell_type": "markdown",
      "source": [
        "### Actividad 5: Calidad de Datos\n",
        "\n",
        "Identificar valores nulos y duplicados en los conjuntos de datos. Documentar el estado inicial de los datos."
      ],
      "metadata": {
        "id": "i9zZRGHN6X8Y"
      }
    }
  ]
}