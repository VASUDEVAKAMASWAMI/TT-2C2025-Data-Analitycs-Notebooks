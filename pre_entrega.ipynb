{
  "nbformat": 4,
  "nbformat_minor": 0,
  "metadata": {
    "colab": {
      "provenance": [],
      "authorship_tag": "ABX9TyPy0czYFMpT0CvfAgv9H+ny",
      "include_colab_link": true
    },
    "kernelspec": {
      "name": "python3",
      "display_name": "Python 3"
    },
    "language_info": {
      "name": "python"
    }
  },
  "cells": [
    {
      "cell_type": "markdown",
      "metadata": {
        "id": "view-in-github",
        "colab_type": "text"
      },
      "source": [
        "<a href=\"https://colab.research.google.com/github/VASUDEVAKAMASWAMI/TT-2C2025-Data-Analitycs-Notebooks/blob/main/pre_entrega.ipynb\" target=\"_parent\"><img src=\"https://colab.research.google.com/assets/colab-badge.svg\" alt=\"Open In Colab\"/></a>"
      ]
    },
    {
      "cell_type": "code",
      "execution_count": null,
      "metadata": {
        "id": "4a8iMvDHV7-j"
      },
      "outputs": [],
      "source": [
        "PRE-ENTREGA (Análisis de datos con Pyhon)\n",
        "Julio Carossella - 11.180.709"
      ]
    },
    {
      "cell_type": "markdown",
      "source": [
        "Etapa 1: Recopilación y Preparación de Datos (Clases 1 a 4)\n",
        "Objetivo: Demostrar habilidades en Python, familiaridad con el entorno de trabajo y conocimientos básicos sobre manipulación de datos."
      ],
      "metadata": {
        "id": "pAqIYSviWRDh"
      }
    },
    {
      "cell_type": "markdown",
      "source": [
        "### Actividad 1\n",
        "Crear un documento en Google Colaboratory y cargar los sets de datos como DataFrames."
      ],
      "metadata": {
        "id": "zKXDYIFZWgsa"
      }
    },
    {
      "cell_type": "code",
      "source": [
        "import pandas as pd\n"
      ],
      "metadata": {
        "id": "TEVuAi9rWlaT"
      },
      "execution_count": null,
      "outputs": []
    },
    {
      "cell_type": "code",
      "source": [
        "# Importar dataset ventas\n",
        "df_ventas = pd.read_csv(\"https://raw.githubusercontent.com/VASUDEVAKAMASWAMI/TT-2C2025-Data-Analitycs-Notebooks/refs/heads/main/PreEntrega/Datasets/ventas.csv\")\n",
        "\n",
        "# Importar dataset clientes\n",
        "df_clientes = pd.read_csv(\"https://raw.githubusercontent.com/VASUDEVAKAMASWAMI/TT-2C2025-Data-Analitycs-Notebooks/refs/heads/main/PreEntrega/Datasets/clientes.csv\")\n",
        "\n",
        "# Importar dataset marketing\n",
        "df_marketing = pd.read_csv(\"https://raw.githubusercontent.com/VASUDEVAKAMASWAMI/TT-2C2025-Data-Analitycs-Notebooks/refs/heads/main/PreEntrega/Datasets/marketing.csv\")\n",
        "\n"
      ],
      "metadata": {
        "id": "CQKjk4tXZt09"
      },
      "execution_count": null,
      "outputs": []
    },
    {
      "cell_type": "code",
      "source": [
        "# Comprobación importación del dataset ventas (retornar primeras cinco filas)\n",
        "df_ventas.head()"
      ],
      "metadata": {
        "id": "naLg_EA2cFUU"
      },
      "execution_count": null,
      "outputs": []
    },
    {
      "cell_type": "code",
      "source": [
        "# Comprobación importación del dataset clientes (retornar primeras cinco filas)\n",
        "df_clientes.head()"
      ],
      "metadata": {
        "id": "mteLAWawcsiW"
      },
      "execution_count": null,
      "outputs": []
    },
    {
      "cell_type": "code",
      "source": [
        "# Comprobación importación del dataset marketing (retornar primeras cinco filas)\n",
        "df_marketing.head()"
      ],
      "metadata": {
        "id": "lafm2mZWcupo"
      },
      "execution_count": null,
      "outputs": []
    },
    {
      "cell_type": "markdown",
      "source": [
        "### Actividad 2:  Script básico\n",
        "Realizar un script básico que calcule las ventas mensuales utilizando variables y operadores"
      ],
      "metadata": {
        "id": "v0sC7Z_I3slJ"
      }
    },
    {
      "cell_type": "code",
      "source": [
        "\n",
        "# Generación de una lista de diccionarios\n",
        "ventas = [\n",
        "  {'producto': 'notebook', 'precio': 1500.0, 'cantidad': 3, 'fecha_venta': \"21/01/2024\"},\n",
        "  {'producto': 'disco sólido 15GB', 'precio': 20000.0, 'cantidad': 5, 'fecha_venta': \"28/01/2024\"},\n",
        "  {'producto': 'monitor', 'precio': 500.0, 'cantidad': 5, 'fecha_venta': \"25/02/2024\"},\n",
        "  {'producto': 'mouse', 'precio': 20.0, 'cantidad': 15, 'fecha_venta': \"02/03/2024\"},\n",
        "  {'producto': 'cooler', 'precio': 500.0, 'cantidad': 3, 'fecha_venta': \"03/04/2024\"},\n",
        "  {'producto': 'cable usb', 'precio': 500.0, 'cantidad': 5, 'fecha_venta': \"10/05/2024\"},\n",
        "  {'producto': 'memoria usb', 'precio': 500.0, 'cantidad': 25, 'fecha_venta': \"11/06/2024\"},\n",
        "  {'producto': 'disco rígido 1GB', 'precio': 1000.0, 'cantidad': 5, 'fecha_venta': \"15/07/2024\"},\n",
        "  {'producto': 'disco rígido 2GB', 'precio': 2000.0, 'cantidad': 6, 'fecha_venta': \"29/08/2024\"},\n",
        "  {'producto': 'disco rígido 4GB', 'precio': 4000.0, 'cantidad': 8, 'fecha_venta': \"23/09/2024\"},\n",
        "  {'producto': 'disco sólido 50GB', 'precio': 10000.0, 'cantidad': 5, 'fecha_venta': \"05/10/2024\"},\n",
        "  {'producto': 'disco sólido 100GB', 'precio': 15000.0, 'cantidad': 15, 'fecha_venta': \"17/11/2024\"},\n",
        "  {'producto': 'disco sólido 15GB', 'precio': 20000.0, 'cantidad': 1, 'fecha_venta': \"22/12/2024\"},\n",
        "  {'producto': 'disco sólido 20GB', 'precio': 25000.0, 'cantidad': 1, 'fecha_venta': \"27/12/2024\"}\n",
        "  ]\n"
      ],
      "metadata": {
        "id": "UaVozVWU6tIF"
      },
      "execution_count": null,
      "outputs": []
    },
    {
      "cell_type": "code",
      "source": [
        "# Calculamos las ventas acumuladas - listas por comprensión\n",
        "\n",
        "ventas_acumuladas = sum([venta[\"precio\"] * venta[\"cantidad\"] for venta in ventas])\n",
        "ventas_acumuladas\n",
        "\n"
      ],
      "metadata": {
        "colab": {
          "base_uri": "https://localhost:8080/"
        },
        "id": "JscxugFF-0pr",
        "outputId": "fbc3e47c-aa70-44fa-bf06-4d94387bd2b6"
      },
      "execution_count": null,
      "outputs": [
        {
          "output_type": "execute_result",
          "data": {
            "text/plain": [
              "847800.0"
            ]
          },
          "metadata": {},
          "execution_count": 72
        }
      ]
    },
    {
      "cell_type": "code",
      "source": [
        "\n",
        "ventas_mensuales={}\n",
        "\n",
        "for venta in ventas:\n",
        "  for m in range(1,13):\n",
        "    if (int(venta[\"fecha_venta\"].split(\"/\")[1]))==m:\n",
        "      if m in ventas_mensuales:\n",
        "        ventas_mensuales[m] += venta[\"precio\"] * venta[\"cantidad\"]\n",
        "      else:\n",
        "        ventas_mensuales[m] = venta[\"precio\"] * venta[\"cantidad\"]\n",
        "\n",
        "ventas_mensuales = dict(sorted(ventas_mensuales.items()))\n",
        "ventas_mensuales\n"
      ],
      "metadata": {
        "colab": {
          "base_uri": "https://localhost:8080/"
        },
        "id": "LqBosNPQPkTP",
        "outputId": "5c0436f5-a3d0-48bd-e00c-e96e5d5d8d53"
      },
      "execution_count": null,
      "outputs": [
        {
          "output_type": "execute_result",
          "data": {
            "text/plain": [
              "{1: 104500.0,\n",
              " 2: 2500.0,\n",
              " 3: 300.0,\n",
              " 4: 1500.0,\n",
              " 5: 2500.0,\n",
              " 6: 12500.0,\n",
              " 7: 5000.0,\n",
              " 8: 12000.0,\n",
              " 9: 32000.0,\n",
              " 10: 50000.0,\n",
              " 11: 225000.0,\n",
              " 12: 45000.0}"
            ]
          },
          "metadata": {},
          "execution_count": 87
        }
      ]
    },
    {
      "cell_type": "markdown",
      "source": [
        "### Actividad 3: Estructuras de Datos\n",
        "\n",
        "Desarrollar un programa que almacene los datos de ventas (producto, precio, cantidad). Decidir si conviene utilizar diccionarios o listas."
      ],
      "metadata": {
        "id": "GF5uDiPx4qNh"
      }
    },
    {
      "cell_type": "markdown",
      "source": [
        "### Actividad 4: Introducción a Pandas\n",
        "\n",
        "Realizar un análisis exploratorio inicial de los DataFrames."
      ],
      "metadata": {
        "id": "_G9pR3_k58X6"
      }
    },
    {
      "cell_type": "markdown",
      "source": [
        "### Actividad 5: Calidad de Datos\n",
        "\n",
        "Identificar valores nulos y duplicados en los conjuntos de datos. Documentar el estado inicial de los datos."
      ],
      "metadata": {
        "id": "i9zZRGHN6X8Y"
      }
    }
  ]
}