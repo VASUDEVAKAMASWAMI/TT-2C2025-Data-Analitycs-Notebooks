{
  "nbformat": 4,
  "nbformat_minor": 0,
  "metadata": {
    "colab": {
      "provenance": [],
      "authorship_tag": "ABX9TyNbMjkAE2f9BgT8NhNatX5k",
      "include_colab_link": true
    },
    "kernelspec": {
      "name": "python3",
      "display_name": "Python 3"
    },
    "language_info": {
      "name": "python"
    }
  },
  "cells": [
    {
      "cell_type": "markdown",
      "metadata": {
        "id": "view-in-github",
        "colab_type": "text"
      },
      "source": [
        "<a href=\"https://colab.research.google.com/github/VASUDEVAKAMASWAMI/TT-2C2025-Data-Analitycs-Notebooks/blob/main/Copia_de_pre_entrega.ipynb\" target=\"_parent\"><img src=\"https://colab.research.google.com/assets/colab-badge.svg\" alt=\"Open In Colab\"/></a>"
      ]
    },
    {
      "cell_type": "code",
      "execution_count": null,
      "metadata": {
        "id": "4a8iMvDHV7-j"
      },
      "outputs": [],
      "source": [
        "PRE-ENTREGA (Análisis de datos con Pyhon)\n",
        "Julio Carossella - 11.180.709"
      ]
    },
    {
      "cell_type": "markdown",
      "source": [
        "# Etapa 1: Recopilación y Preparación de Datos (Clases 1 a 4)\n",
        "Objetivo: Demostrar habilidades en Python, familiaridad con el entorno de trabajo y conocimientos básicos sobre manipulación de datos."
      ],
      "metadata": {
        "id": "pAqIYSviWRDh"
      }
    },
    {
      "cell_type": "markdown",
      "source": [
        "### Actividad 1 ---> Importar los DataSets\n",
        "Crear un documento en Google Colaboratory y cargar los sets de datos como DataFrames."
      ],
      "metadata": {
        "id": "zKXDYIFZWgsa"
      }
    },
    {
      "cell_type": "code",
      "source": [
        "import pandas as pd\n"
      ],
      "metadata": {
        "id": "TEVuAi9rWlaT"
      },
      "execution_count": null,
      "outputs": []
    },
    {
      "cell_type": "code",
      "source": [
        "# Importar dataset ventas\n",
        "df_ventas = pd.read_csv(\"https://raw.githubusercontent.com/VASUDEVAKAMASWAMI/TT-2C2025-Data-Analitycs-Notebooks/refs/heads/main/PreEntrega/Datasets/ventas.csv\")"
      ],
      "metadata": {
        "id": "CQKjk4tXZt09"
      },
      "execution_count": null,
      "outputs": []
    },
    {
      "cell_type": "code",
      "source": [
        "# Importar dataset clientes\n",
        "df_clientes = pd.read_csv(\"https://raw.githubusercontent.com/VASUDEVAKAMASWAMI/TT-2C2025-Data-Analitycs-Notebooks/refs/heads/main/PreEntrega/Datasets/clientes.csv\")"
      ],
      "metadata": {
        "id": "dD2PBDcouOni"
      },
      "execution_count": null,
      "outputs": []
    },
    {
      "cell_type": "code",
      "source": [
        "# Importar dataset marketing\n",
        "df_marketing = pd.read_csv(\"https://raw.githubusercontent.com/VASUDEVAKAMASWAMI/TT-2C2025-Data-Analitycs-Notebooks/refs/heads/main/PreEntrega/Datasets/marketing.csv\")"
      ],
      "metadata": {
        "id": "Z7xMFswbuUdz"
      },
      "execution_count": null,
      "outputs": []
    },
    {
      "cell_type": "code",
      "source": [
        "# Comprobación importación del dataset ventas (retornar primeras cinco filas)\n",
        "df_ventas.head()"
      ],
      "metadata": {
        "id": "naLg_EA2cFUU"
      },
      "execution_count": null,
      "outputs": []
    },
    {
      "cell_type": "code",
      "source": [
        "# Comprobación importación del dataset clientes (retornar primeras cinco filas)\n",
        "df_clientes.head()"
      ],
      "metadata": {
        "id": "mteLAWawcsiW"
      },
      "execution_count": null,
      "outputs": []
    },
    {
      "cell_type": "code",
      "source": [
        "# Comprobación importación del dataset marketing (retornar primeras cinco filas)\n",
        "df_marketing.head()"
      ],
      "metadata": {
        "id": "lafm2mZWcupo"
      },
      "execution_count": null,
      "outputs": []
    },
    {
      "cell_type": "markdown",
      "source": [
        "### Actividad 2:  Script básico\n",
        "Realizar un script básico que calcule las ventas mensuales utilizando variables y operadores"
      ],
      "metadata": {
        "id": "v0sC7Z_I3slJ"
      }
    },
    {
      "cell_type": "code",
      "source": [
        "\n",
        "# Generación de una lista de diccionarios\n",
        "ventas = [\n",
        "  {'producto': 'notebook', 'precio': 1500.0, 'cantidad': 3, 'fecha_venta': \"21/01/2024\"},\n",
        "  {'producto': 'disco sólido 15GB', 'precio': 20000.0, 'cantidad': 5, 'fecha_venta': \"28/01/2024\"},\n",
        "  {'producto': 'monitor', 'precio': 500.0, 'cantidad': 5, 'fecha_venta': \"25/02/2024\"},\n",
        "  {'producto': 'mouse', 'precio': 20.0, 'cantidad': 15, 'fecha_venta': \"02/03/2024\"},\n",
        "  {'producto': 'cooler', 'precio': 500.0, 'cantidad': 3, 'fecha_venta': \"03/04/2024\"},\n",
        "  {'producto': 'cable usb', 'precio': 500.0, 'cantidad': 5, 'fecha_venta': \"10/05/2024\"},\n",
        "  {'producto': 'memoria usb', 'precio': 500.0, 'cantidad': 25, 'fecha_venta': \"11/06/2024\"},\n",
        "  {'producto': 'disco rígido 1GB', 'precio': 1000.0, 'cantidad': 5, 'fecha_venta': \"15/07/2024\"},\n",
        "  {'producto': 'disco rígido 2GB', 'precio': 2000.0, 'cantidad': 6, 'fecha_venta': \"29/08/2024\"},\n",
        "  {'producto': 'disco rígido 4GB', 'precio': 4000.0, 'cantidad': 8, 'fecha_venta': \"23/09/2024\"},\n",
        "  {'producto': 'disco sólido 50GB', 'precio': 10000.0, 'cantidad': 5, 'fecha_venta': \"05/10/2024\"},\n",
        "  {'producto': 'disco sólido 100GB', 'precio': 15000.0, 'cantidad': 15, 'fecha_venta': \"17/11/2024\"},\n",
        "  {'producto': 'disco sólido 15GB', 'precio': 20000.0, 'cantidad': 1, 'fecha_venta': \"22/12/2024\"},\n",
        "  {'producto': 'disco sólido 20GB', 'precio': 25000.0, 'cantidad': 1, 'fecha_venta': \"27/12/2024\"}\n",
        "  ]\n"
      ],
      "metadata": {
        "id": "UaVozVWU6tIF"
      },
      "execution_count": null,
      "outputs": []
    },
    {
      "cell_type": "code",
      "source": [
        "\n",
        "# creamos el diccionario vacío ventas_mensuales\n",
        "ventas_mensuales={}\n",
        "\n",
        "# Recorremos el diccionario ventas y ubicamos las ventas  correspondientes a cada mes range(1,13)\n",
        "# Si el índice correspondiente al mes ya se encuentra en el diccionario sumamos el p*q, y si no está, entonces agregamos el producto p*q para ese índice (mes)\n",
        "for venta in ventas:\n",
        "  for m in range(1,13):\n",
        "    if (int(venta[\"fecha_venta\"].split(\"/\")[1]))==m:\n",
        "      if m in ventas_mensuales:\n",
        "        ventas_mensuales[m] += venta[\"precio\"] * venta[\"cantidad\"]\n",
        "      else:\n",
        "        ventas_mensuales[m] = venta[\"precio\"] * venta[\"cantidad\"]\n",
        "# Ordenamos el diccionario ventas_mensuales por su índice (mes) y finalmente imprimimos el diccionario\n",
        "\n",
        "ventas_mensuales = dict(sorted(ventas_mensuales.items()))\n",
        "ventas_mensuales\n"
      ],
      "metadata": {
        "id": "LqBosNPQPkTP"
      },
      "execution_count": null,
      "outputs": []
    },
    {
      "cell_type": "markdown",
      "source": [
        "### Actividad 3: Estructuras de Datos\n",
        "\n",
        "Desarrollar un programa que almacene los datos de ventas (producto, precio, cantidad). Decidir si conviene utilizar diccionarios o listas."
      ],
      "metadata": {
        "id": "GF5uDiPx4qNh"
      }
    },
    {
      "cell_type": "markdown",
      "source": [
        "### Actividad 4: Introducción a Pandas\n",
        "\n",
        "Realizar un análisis exploratorio inicial de los DataFrames.\n",
        "\n",
        "El objetivo del análisis exploratorio de datos (EDA) es evaluar conjuntos de datos para resumir sus características principales, descubrir patrones, detectar anomalías y verificar hipótesis y/o suposiciones.\n",
        "\n",
        "Algunos de los principales métodos EDA que hemos estudiado son: info, columns, dtypes, head, tail, sample, unique, value_counts, describe, duplicated, isnull.\n"
      ],
      "metadata": {
        "id": "_G9pR3_k58X6"
      }
    },
    {
      "cell_type": "markdown",
      "source": [
        "# DATAFRAME ventas\n",
        "##Análisis exploratorio de datos"
      ],
      "metadata": {
        "id": "bjv2Jv5gbHcS"
      }
    },
    {
      "cell_type": "code",
      "source": [
        "#  El método info() no devuelve ningún valor, sólo imprime información sobre el DataFrame.\n",
        "# Dicha información incluye el número de columnas (3035), las etiquetas de las columnas (\"id_venta\", \"producto\", \"precio\", \"cantidad\", \"fecha_venta\" y \"categoría\"), los tipos de datos de las columnas (int64, objecto, float64),\n",
        "# el uso de la memoria (142.4+ K), el índice de rango (RangeIndex: 0,1,2...) y el número de celdas en cada columna (valores no nulos).\n",
        "# OBSERVACIONES:  las columnas \"precio\" y \"cantidad\" poseen dos valores nulos\n",
        "df_ventas.info()\n",
        "\n"
      ],
      "metadata": {
        "id": "w2VogDGPs6kW"
      },
      "execution_count": null,
      "outputs": []
    },
    {
      "cell_type": "code",
      "source": [
        "# El método head(n) devuelve los encabezados y el número especificado (n) de filas del DataFrame. Si no se especifica el n, por defecto devuelve las primeras cinco filas.\n",
        "# El método tail(n) permite visualizar los encabezados y las últimas n filas del DataFrame. Si no se especifica el n, por defecto devuelve las últimas cinco filas.\n",
        "#df_ventas.head()\n",
        "df_ventas.tail(10)"
      ],
      "metadata": {
        "id": "PqmBJL5Ps75e"
      },
      "execution_count": null,
      "outputs": []
    },
    {
      "cell_type": "code",
      "source": [
        "# El método sample(n) devuelve los encabezados y n registros al azar.  Si no se especifica el n, por defecto devuelve  sólo una fila.\n",
        "df_ventas.sample(3)"
      ],
      "metadata": {
        "id": "makKW4K-tB4m"
      },
      "execution_count": null,
      "outputs": []
    },
    {
      "cell_type": "code",
      "source": [
        "# El método .sample(n) permite muestrear sólo una o algunas columnas especificadas a través de una lista.\n",
        "#df_ventas[\"producto\"].sample(5)\n",
        "df_ventas[[\"producto\",\"precio\"]].sample(5)"
      ],
      "metadata": {
        "id": "0f3ybDnvtEbm"
      },
      "execution_count": null,
      "outputs": []
    },
    {
      "cell_type": "code",
      "source": [
        "# el método .describe() de los dataframes presenta un resumen de la estadistica descriptiva general de las columnas numericas del dataframe:\n",
        "#Promedio (mean)\n",
        "#Desviacion estandard (std)\n",
        "#Valor minimo\n",
        "#Valor maximo\n",
        "#Cuartiles (25%, 50% y 75%)\n",
        "df_ventas.describe()"
      ],
      "metadata": {
        "id": "5vZPdD9MSzM7"
      },
      "execution_count": null,
      "outputs": []
    },
    {
      "cell_type": "code",
      "source": [
        "# Muestreo al azar de la columna o Series \"fecha_venta\"\n",
        "df_ventas[\"fecha_venta\"].sample(5)"
      ],
      "metadata": {
        "id": "5YlmCY0HtK4w"
      },
      "execution_count": null,
      "outputs": []
    },
    {
      "cell_type": "code",
      "source": [
        "# Análisis de la columna o Series \"categoria\"\n",
        "# El método value_counts()\tretorna el número de filas únicas\n",
        "#df_ventas[\"categoria\"].value_counts()\n",
        "\n",
        "# El métod .unique() extrae los diferentes valores de una Series  (o columna única de un DF). Devuelve un array NumPy conteniendo los valores únicos en orden de aparición.\n",
        "df_ventas[\"categoria\"].unique()"
      ],
      "metadata": {
        "id": "AETuK4bbtNqQ"
      },
      "execution_count": null,
      "outputs": []
    },
    {
      "cell_type": "markdown",
      "source": [],
      "metadata": {
        "id": "GwDCCIHBb_H0"
      }
    },
    {
      "cell_type": "markdown",
      "source": [
        "# DATAFRAME clientes\n",
        "##Análisis exploratorio de datos"
      ],
      "metadata": {
        "id": "6AuS3BSbb_oD"
      }
    },
    {
      "cell_type": "code",
      "source": [
        "#  El método info() no devuelve ningún valor, sólo imprime información sobre el DataFrame.\n",
        "# Dicha información incluye el número de columnas (3035), las etiquetas de las columnas (\"id_venta\", \"producto\", \"precio\", \"cantidad\", \"fecha_venta\" y \"categoría\"), los tipos de datos de las columnas (int64, objecto, float64),\n",
        "# el uso de la memoria (142.4+ K), el índice de rango (RangeIndex: 0,1,2...) y el número de celdas en cada columna (valores no nulos).\n",
        "# OBSERVACIONES:  las columnas \"precio\" y \"cantidad\" poseen dos valores nulos\n",
        "df_clientes.info()\n",
        "\n"
      ],
      "metadata": {
        "id": "4ye5OoDLcGdX"
      },
      "execution_count": null,
      "outputs": []
    },
    {
      "cell_type": "code",
      "source": [
        "# El método head(n) devuelve los encabezados y el número especificado (n) de filas del DataFrame. Si no se especifica el n, por defecto devuelve las primeras cinco filas.\n",
        "# El método tail(n) permite visualizar los encabezados y las últimas n filas del DataFrame. Si no se especifica el n, por defecto devuelve las últimas cinco filas.\n",
        "#df_clientes.head()\n",
        "df_clientes.tail(10)"
      ],
      "metadata": {
        "id": "hBWD7CfBcY7f"
      },
      "execution_count": null,
      "outputs": []
    },
    {
      "cell_type": "code",
      "source": [
        "# El método sample(n) devuelve los encabezados y n registros al azar.  Si no se especifica el n, por defecto devuelve  sólo una fila.\n",
        "df_clientes.sample(3)"
      ],
      "metadata": {
        "id": "2PHB3hDXcfbC"
      },
      "execution_count": null,
      "outputs": []
    },
    {
      "cell_type": "code",
      "source": [
        "# El método .sample(n) permite muestrear sólo una o algunas columnas especificadas a través de una lista.\n",
        "#df_clientes[\"edad\"].sample(5)\n",
        "df_clientes[[\"nombre\",\"edad\"]].sample(5)"
      ],
      "metadata": {
        "id": "QS-z8QJicjwV"
      },
      "execution_count": null,
      "outputs": []
    },
    {
      "cell_type": "code",
      "source": [
        "# el método .describe() de los dataframes presenta un resumen de la estadistica descriptiva general de las columnas numericas del dataframe:\n",
        "#Promedio (mean)\n",
        "#Desviacion estandard (std)\n",
        "#Valor minimo\n",
        "#Valor maximo\n",
        "#Cuartiles (25%, 50% y 75%)\n",
        "df_clientes.describe()"
      ],
      "metadata": {
        "id": "ByaRh9Qbco8n"
      },
      "execution_count": null,
      "outputs": []
    },
    {
      "cell_type": "code",
      "source": [
        "# Muestreo al azar de la columna o Series \"ciudad\"\n",
        "df_clientes[\"ciudad\"].sample(5)"
      ],
      "metadata": {
        "id": "SFi655kRctot"
      },
      "execution_count": null,
      "outputs": []
    },
    {
      "cell_type": "code",
      "source": [
        "# Análisis de la columna o Series \"ciudad\"\n",
        "# El método value_counts()\tretorna el número de filas únicas\n",
        "#df_clientes[\"ciudad\"].value_counts()\n",
        "\n",
        "# El métod .unique() extrae los diferentes valores de una Series  (o columna única de un DF). Devuelve un array NumPy conteniendo los valores únicos en orden de aparición.\n",
        "df_clientes[\"ciudad\"].unique()"
      ],
      "metadata": {
        "id": "zTUthCsxc5Q_"
      },
      "execution_count": null,
      "outputs": []
    },
    {
      "cell_type": "markdown",
      "source": [],
      "metadata": {
        "id": "dSOqOerNd5m8"
      }
    },
    {
      "cell_type": "markdown",
      "source": [
        "# DATAFRAME marketing\n",
        "##Análisis exploratorio de datos"
      ],
      "metadata": {
        "id": "Yf0cNxZrd6Df"
      }
    },
    {
      "cell_type": "code",
      "source": [
        "#  El método info() no devuelve ningún valor, sólo imprime información sobre el DataFrame.\n",
        "# Dicha información incluye el número de columnas (3035), las etiquetas de las columnas (\"id_venta\", \"producto\", \"precio\", \"cantidad\", \"fecha_venta\" y \"categoría\"), los tipos de datos de las columnas (int64, objecto, float64),\n",
        "# el uso de la memoria (142.4+ K), el índice de rango (RangeIndex: 0,1,2...) y el número de celdas en cada columna (valores no nulos).\n",
        "# OBSERVACIONES:  las columnas \"precio\" y \"cantidad\" poseen dos valores nulos\n",
        "df_marketing.info()\n",
        "\n"
      ],
      "metadata": {
        "id": "-nTMJgr0eHoG"
      },
      "execution_count": null,
      "outputs": []
    },
    {
      "cell_type": "code",
      "source": [
        "# El método head(n) devuelve los encabezados y el número especificado (n) de filas del DataFrame. Si no se especifica el n, por defecto devuelve las primeras cinco filas.\n",
        "# El método tail(n) permite visualizar los encabezados y las últimas n filas del DataFrame. Si no se especifica el n, por defecto devuelve las últimas cinco filas.\n",
        "#df_marketing.head()\n",
        "df_marketing.tail(10)"
      ],
      "metadata": {
        "id": "zyoThJFoeOB2"
      },
      "execution_count": null,
      "outputs": []
    },
    {
      "cell_type": "code",
      "source": [
        "# El método sample(n) devuelve los encabezados y n registros al azar.  Si no se especifica el n, por defecto devuelve  sólo una fila.\n",
        "df_marketing.sample(3)"
      ],
      "metadata": {
        "id": "bMcDaMoheSn-"
      },
      "execution_count": null,
      "outputs": []
    },
    {
      "cell_type": "code",
      "source": [
        "# El método .sample(n) permite muestrear sólo una o algunas columnas especificadas a través de una lista.\n",
        "#df_marketing[\"id_campaha\"].sample(5)\n",
        "df_marketing[[\"producto\",\"canal\"]].sample(5)"
      ],
      "metadata": {
        "id": "R1VAj4p5eZTl"
      },
      "execution_count": null,
      "outputs": []
    },
    {
      "cell_type": "code",
      "source": [
        "# el método .describe() de los dataframes presenta un resumen de la estadistica descriptiva general de las columnas numericas del dataframe:\n",
        "#Promedio (mean)\n",
        "#Desviacion estandard (std)\n",
        "#Valor minimo\n",
        "#Valor maximo\n",
        "#Cuartiles (25%, 50% y 75%)\n",
        "df_marketing.describe()"
      ],
      "metadata": {
        "id": "QbhfZoJsefgR"
      },
      "execution_count": null,
      "outputs": []
    },
    {
      "cell_type": "code",
      "source": [
        "# Muestreo al azar de la columna o Series \"costo\"\n",
        "df_marketing[\"costo\"].sample(5)"
      ],
      "metadata": {
        "id": "gPDDdYZeekJx"
      },
      "execution_count": null,
      "outputs": []
    },
    {
      "cell_type": "code",
      "source": [
        "# Análisis de la columna o Series \"producto\"\n",
        "# El método value_counts()\tretorna el número de filas únicas\n",
        "#df_ventas[\"producto\"].value_counts()\n",
        "\n",
        "# El métod .unique() extrae los diferentes valores de una Series  (o columna única de un DF). Devuelve un array NumPy conteniendo los valores únicos en orden de aparición.\n",
        "df_marketing[\"producto\"].unique()"
      ],
      "metadata": {
        "id": "SBg0ZRo8eon8"
      },
      "execution_count": null,
      "outputs": []
    },
    {
      "cell_type": "markdown",
      "source": [
        "### Actividad 5: Calidad de Datos\n",
        "\n",
        "Identificar valores nulos y duplicados en los conjuntos de datos. Documentar el estado inicial de los datos."
      ],
      "metadata": {
        "id": "i9zZRGHN6X8Y"
      }
    },
    {
      "cell_type": "markdown",
      "source": [
        "# DATAFRAME ventas\n",
        "##Calidad de los datos"
      ],
      "metadata": {
        "id": "DSFioAa3gzr7"
      }
    },
    {
      "cell_type": "code",
      "source": [
        "# Buscamos registros duplicados\n",
        "df_ventas.duplicated().sum()"
      ],
      "metadata": {
        "id": "YYFIg5ZRhVQD"
      },
      "execution_count": null,
      "outputs": []
    },
    {
      "cell_type": "code",
      "source": [
        "# Visualizamos los duplicados\n",
        "# keep: 'first', 'last', False\n",
        "df_ventas[df_ventas.duplicated(keep=False)].sort_values(by=\"producto\")"
      ],
      "metadata": {
        "id": "0d1DUHkjhYXE"
      },
      "execution_count": null,
      "outputs": []
    },
    {
      "cell_type": "code",
      "source": [
        "# Buscamos datos nulos\n",
        "df_ventas.isnull().sum()"
      ],
      "metadata": {
        "id": "TALKAzKZhbis"
      },
      "execution_count": null,
      "outputs": []
    },
    {
      "cell_type": "code",
      "source": [
        "# Visualizar los nulos\n",
        "# df_ventas[df_ventas.isnull().any(axis=1)]\n",
        "df_ventas[df_ventas.isnull().any(axis=1)]"
      ],
      "metadata": {
        "id": "3ckTCfLChfDw"
      },
      "execution_count": null,
      "outputs": []
    },
    {
      "cell_type": "code",
      "source": [
        "# Analizar los precios de los NaN a ver que opciones tenemos\n",
        "# df_ventas[df_ventas[\"producto\"]==\"Elementos de cerámica\"]\n",
        "df_ventas[\"producto\"].value_counts()\n",
        "# df_ventas[\"producto\"].unique()"
      ],
      "metadata": {
        "id": "CJw5GrBZhiPX"
      },
      "execution_count": null,
      "outputs": []
    },
    {
      "cell_type": "markdown",
      "source": [
        "### DF ventas --> Observaciones\n",
        "* Cantidad de registros: 3035\n",
        "* Columnas 6\n",
        "* 35 duplicados, eliminarlos\n",
        "* Algunos nulos (2), 1% del faltante, dropna\n",
        "* Campo precio: encontre $, removerlo y luego cambiar el dtype a float64\n",
        "* Campo fecha: ajustar a dtype datetime"
      ],
      "metadata": {
        "id": "rPb1Ge1ghl_x"
      }
    },
    {
      "cell_type": "markdown",
      "source": [
        "# DATAFRAME clientes\n",
        "##Calidad de los datos"
      ],
      "metadata": {
        "id": "5VkvV4gyhIKP"
      }
    },
    {
      "cell_type": "code",
      "source": [
        "# Buscamos registros duplicados\n",
        "df_clientes.duplicated().sum()"
      ],
      "metadata": {
        "id": "nGp2mrCOiPRR"
      },
      "execution_count": null,
      "outputs": []
    },
    {
      "cell_type": "code",
      "source": [
        "# Visualizamos los duplicados\n",
        "# keep: 'first', 'last', False\n",
        "df_clientes[df_clientes.duplicated(keep=False)].sort_values(by=\"id_cliente\")"
      ],
      "metadata": {
        "id": "9BCK0YQXiSiY"
      },
      "execution_count": null,
      "outputs": []
    },
    {
      "cell_type": "code",
      "source": [
        "# Buscamos datos nulos ==> NO EXISTEN NULLS!!!!\n",
        "df_clientes.isnull().sum()"
      ],
      "metadata": {
        "id": "WjT8ZDjSiVTn"
      },
      "execution_count": null,
      "outputs": []
    },
    {
      "cell_type": "code",
      "source": [
        "# Visualizar los nulos ==> NO EXISTEN NULLS!!!!\n",
        "# df_ventas[df_ventas.isnull().any(axis=1)]\n",
        "df_clientes[df_clientes.isnull().any(axis=1)]"
      ],
      "metadata": {
        "id": "5XmVurRLiX_0"
      },
      "execution_count": null,
      "outputs": []
    },
    {
      "cell_type": "code",
      "source": [
        "# Analizar los precios de los NaN a ver que opciones tenemos  <--- NO EXISTEN NULLS!!!!\n",
        "# df_ventas[df_ventas[\"producto\"]==\"Elementos de cerámica\"]\n",
        "df_clientes[\"producto\"].value_counts()\n",
        "# df_clientes[\"producto\"].unique()"
      ],
      "metadata": {
        "id": "VJLhvnxuibXa"
      },
      "execution_count": null,
      "outputs": []
    },
    {
      "cell_type": "markdown",
      "source": [
        "### DF clientes  --> Observaciones\n",
        "* Cantidad de registros: 3035\n",
        "* Columnas 6\n",
        "* 35 duplicados, eliminarlos\n",
        "* Algunos nulos (2), 1% del faltante, dropna\n",
        "* Campo precio: encontre $, removerlo y luego cambiar el dtype a float64\n",
        "* Campo fecha: ajustar a dtype datetime"
      ],
      "metadata": {
        "id": "RwOla56vlV1z"
      }
    },
    {
      "cell_type": "markdown",
      "source": [
        "# DATAFRAME marketing\n",
        "##Calidad de los datos"
      ],
      "metadata": {
        "id": "dSTvIjRShJUD"
      }
    },
    {
      "cell_type": "code",
      "source": [
        "# Buscamos registros duplicados  ==> NO EXISTEN DUPLICADOS!!!!\n",
        "df_marketing.duplicated().sum()"
      ],
      "metadata": {
        "id": "GW9cxBZ9iied"
      },
      "execution_count": null,
      "outputs": []
    },
    {
      "cell_type": "code",
      "source": [
        "# Visualizamos los duplicados  ==> NO EXISTEN DUPLICADOS!!!!\n",
        "# keep: 'first', 'last', False\n",
        "df_marketing[df_marketing.duplicated(keep=False)].sort_values(by=\"producto\")"
      ],
      "metadata": {
        "id": "aNh-rV_0iiee"
      },
      "execution_count": null,
      "outputs": []
    },
    {
      "cell_type": "code",
      "source": [
        "# Buscamos datos nulos\n",
        "df_marketing.isnull().sum()"
      ],
      "metadata": {
        "id": "TMctyyneiiee"
      },
      "execution_count": null,
      "outputs": []
    },
    {
      "cell_type": "code",
      "source": [
        "# Visualizar los nulos\n",
        "# df_ventas[df_ventas.isnull().any(axis=1)]\n",
        "df_marketing[df_marketing.isnull().any(axis=1)]"
      ],
      "metadata": {
        "id": "3vRSq5M0iiee"
      },
      "execution_count": null,
      "outputs": []
    },
    {
      "cell_type": "code",
      "source": [
        "# Analizar los precios de los NaN a ver que opciones tenemos\n",
        "# df_ventas[df_ventas[\"producto\"]==\"Elementos de cerámica\"]\n",
        "df_marketing[\"producto\"].value_counts()\n",
        "# df_marketing[\"producto\"].unique()"
      ],
      "metadata": {
        "id": "37gEncuNiiee"
      },
      "execution_count": null,
      "outputs": []
    },
    {
      "cell_type": "markdown",
      "source": [
        "### DF marketing --> Observaciones\n",
        "* Cantidad de registros: 3035\n",
        "* Columnas 6\n",
        "* 35 duplicados, eliminarlos\n",
        "* Algunos nulos (2), 1% del faltante, dropna\n",
        "* Campo precio: encontre $, removerlo y luego cambiar el dtype a float64\n",
        "* Campo fecha: ajustar a dtype datetime"
      ],
      "metadata": {
        "id": "R2J6fL5BlYlW"
      }
    },
    {
      "cell_type": "markdown",
      "source": [
        "# Etapa 2\n",
        "## Limpieza de datos\n",
        "#Actividad 1\n",
        "Limpiar el conjunto de datos eliminando duplicados y caracteres no deseados. Documentar el proceso y los resultados."
      ],
      "metadata": {
        "id": "sU6CuHcpl7iM"
      }
    },
    {
      "cell_type": "markdown",
      "source": [
        "# DATAFRAME ventas\n",
        "##  Limpieza de datos: tareas\n",
        "\n",
        "\n",
        "* 35 duplicados, eliminarlos - se eliminaron 35 duplicados\n",
        "* Algunos nulos (2), 1% del faltante, dropna - se eliminaron 2 registros con 2 NaN\n",
        "* Campo precio: encontre $, removerlo y luego cambiar el dtype a float64 - Ok\n",
        "* Campo fecha: ajustar a dtype datetime - Ok"
      ],
      "metadata": {
        "id": "1PBinJwam0Rr"
      }
    },
    {
      "cell_type": "code",
      "source": [
        "# Eliminamos registros duplicados\n",
        "# atributos a evaluar, keep, ignore_index, inplace\n",
        "df_ventas.drop_duplicates(inplace=True, ignore_index=True)"
      ],
      "metadata": {
        "id": "zhz6fX2Qnc4q"
      },
      "execution_count": null,
      "outputs": []
    },
    {
      "cell_type": "code",
      "source": [
        "# Validamos que no haya duplicados\n",
        "df_ventas.duplicated().sum()"
      ],
      "metadata": {
        "id": "wHFfd-gTnkrp"
      },
      "execution_count": null,
      "outputs": []
    },
    {
      "cell_type": "code",
      "source": [
        "# Eliminamos registros con datos nulos\n",
        "df_ventas.dropna(inplace=True)"
      ],
      "metadata": {
        "id": "W0uJSUZ1nrLz"
      },
      "execution_count": null,
      "outputs": []
    },
    {
      "cell_type": "code",
      "source": [
        "# Validamos que no haya nulos\n",
        "# df_ventas.isnull().sum()\n",
        "df_ventas.info()"
      ],
      "metadata": {
        "id": "XLujCapjnumO"
      },
      "execution_count": null,
      "outputs": []
    },
    {
      "cell_type": "code",
      "source": [
        "# Eliminamos el caracter especial $ de precio\n",
        "# Normalización: usar replace()\n",
        "# De ser necesario, podemos usar el atributo regex=True\n",
        "df_ventas[\"precio\"] = df_ventas[\"precio\"].str.strip().str.replace(\"$\", \"\")"
      ],
      "metadata": {
        "id": "vxVYNVTZnx-u"
      },
      "execution_count": null,
      "outputs": []
    },
    {
      "cell_type": "code",
      "source": [
        "# Validamos que precio no contenga $\n",
        "df_ventas[\"precio\"].sample(3)"
      ],
      "metadata": {
        "id": "oluIKeP2n1Kl"
      },
      "execution_count": null,
      "outputs": []
    },
    {
      "cell_type": "code",
      "source": [
        "# Convertimos precio de str a float\n",
        "# Podemos usar pd.to_numeric o astype o incluso combinarlos\n",
        "df_ventas[\"precio\"] = df_ventas[\"precio\"].astype(float)"
      ],
      "metadata": {
        "id": "O8PZXj9un4Nz"
      },
      "execution_count": null,
      "outputs": []
    },
    {
      "cell_type": "code",
      "source": [
        "# Convertir el dtype de cantidad, de float64 a int64\n",
        "df_ventas[\"cantidad\"]= df_ventas[\"cantidad\"].astype(int)"
      ],
      "metadata": {
        "id": "N6RQ3sU6n7tI"
      },
      "execution_count": null,
      "outputs": []
    },
    {
      "cell_type": "code",
      "source": [
        "# Validar la conversion a int\n",
        "df_ventas[\"cantidad\"].dtypes"
      ],
      "metadata": {
        "id": "aRBNSDzkn-XI"
      },
      "execution_count": null,
      "outputs": []
    },
    {
      "cell_type": "code",
      "source": [
        "# Convertir el campo fecha_venta a dtype datetime\n",
        "# pd.to_datetime(df_ventas[\"fecha_venta\"], format=\"%d/%m/%Y\")\n",
        "# pd.to_datetime(df_ventas[\"fecha_venta\"], dayfirst=True)\n",
        "df_ventas['fecha_venta'] = pd.to_datetime(df_ventas['fecha_venta'], format=\"%d/%m/%Y\")"
      ],
      "metadata": {
        "id": "GJNQpn-1oBSP"
      },
      "execution_count": null,
      "outputs": []
    },
    {
      "cell_type": "code",
      "source": [
        "# Validar la conversion de fecha\n",
        "df_ventas['fecha_venta'].dtype"
      ],
      "metadata": {
        "id": "A37EMxYYoHJF"
      },
      "execution_count": null,
      "outputs": []
    },
    {
      "cell_type": "markdown",
      "source": [],
      "metadata": {
        "id": "AuwmJqXrm7ld"
      }
    },
    {
      "cell_type": "markdown",
      "source": [
        "# DATAFRAME clientes\n",
        "##  Limpieza de datos: tareas\n",
        "\n",
        "\n",
        "* 35 duplicados, eliminarlos - se eliminaron 35 duplicados\n",
        "* Algunos nulos (2), 1% del faltante, dropna - se eliminaron 2 registros con 2 NaN\n",
        "* Campo precio: encontre $, removerlo y luego cambiar el dtype a float64 - Ok\n",
        "* Campo fecha: ajustar a dtype datetime - Ok"
      ],
      "metadata": {
        "id": "xuHfWQ5km780"
      }
    },
    {
      "cell_type": "markdown",
      "source": [],
      "metadata": {
        "id": "65NGQEdgm8b8"
      }
    },
    {
      "cell_type": "markdown",
      "source": [
        "# DATAFRAME marketing\n",
        "##  Limpieza de datos: tareas\n",
        "\n",
        "\n",
        "* 35 duplicados, eliminarlos - se eliminaron 35 duplicados\n",
        "* Algunos nulos (2), 1% del faltante, dropna - se eliminaron 2 registros con 2 NaN\n",
        "* Campo precio: encontre $, removerlo y luego cambiar el dtype a float64 - Ok\n",
        "* Campo fecha: ajustar a dtype datetime - Ok\n",
        "\n",
        "* Convertir a datetime fecha_inicio / fecha_fin"
      ],
      "metadata": {
        "id": "nfUSHhXMm8ov"
      }
    },
    {
      "cell_type": "code",
      "source": [
        "df_marketing.info()"
      ],
      "metadata": {
        "id": "xTcsLNacoVsq"
      },
      "execution_count": null,
      "outputs": []
    },
    {
      "cell_type": "code",
      "source": [
        "# Convertir el campo fecha_inicio a dtype datetime\n",
        "df_marketing['fecha_inicio'] = pd.to_datetime(df_marketing['fecha_inicio'], format=\"%d/%m/%Y\")"
      ],
      "metadata": {
        "id": "gnudrabDoYa8"
      },
      "execution_count": null,
      "outputs": []
    },
    {
      "cell_type": "code",
      "source": [
        "# Convertir el campo fecha_fin a dtype datetime\n",
        "df_marketing['fecha_fin'] = pd.to_datetime(df_marketing['fecha_fin'], format=\"%d/%m/%Y\")"
      ],
      "metadata": {
        "id": "fw2gJBdmoa3h"
      },
      "execution_count": null,
      "outputs": []
    },
    {
      "cell_type": "code",
      "source": [
        "# Validamos los cambios"
      ],
      "metadata": {
        "id": "SJyJIRDyoeIH"
      },
      "execution_count": null,
      "outputs": []
    },
    {
      "cell_type": "markdown",
      "source": [],
      "metadata": {
        "id": "wpAmgY0yo4s1"
      }
    },
    {
      "cell_type": "markdown",
      "source": [
        "# Etapa 2\n",
        "## Transformación de datos\n",
        "#Actividad 2\n",
        "\n",
        "Aplicar filtros y transformaciones para crear una tabla de ventas que muestre solo los productos con alto rendimiento."
      ],
      "metadata": {
        "id": "mjifira_o5Hi"
      }
    },
    {
      "cell_type": "code",
      "source": [
        "df_ventas.head(2)"
      ],
      "metadata": {
        "id": "_37L8vRIpuM_"
      },
      "execution_count": null,
      "outputs": []
    },
    {
      "cell_type": "code",
      "source": [
        "# Transformación:\n",
        "# Calculamos el valor de cada venta = precio * cantidad\n",
        "# Agregamos una nueva columnas\n",
        "df_ventas[\"valor_venta\"] = df_ventas[\"precio\"] * df_ventas[\"cantidad\"]"
      ],
      "metadata": {
        "id": "xIqqh-aVpwm7"
      },
      "execution_count": null,
      "outputs": []
    },
    {
      "cell_type": "code",
      "source": [
        "# Visualizamos\n",
        "df_ventas.head(2)"
      ],
      "metadata": {
        "id": "Glxr3n_lpzH9"
      },
      "execution_count": null,
      "outputs": []
    },
    {
      "cell_type": "code",
      "source": [
        "# Agregación:\n",
        "# Agrupar valor_venta por producto\n",
        "# Sumamos las ventas dentro de cada grupo\n",
        "tabla_ventas = (df_ventas.groupby(\"producto\", as_index=False)[\"valor_venta\"].sum())\n",
        "tabla_ventas.head()"
      ],
      "metadata": {
        "id": "wf8cstjbp1ha"
      },
      "execution_count": null,
      "outputs": []
    },
    {
      "cell_type": "code",
      "source": [
        "# Usemos describe para analizar algunos valores del dataframe resultante\n",
        "tabla_ventas.describe()"
      ],
      "metadata": {
        "id": "JpvbAQVwp4CS"
      },
      "execution_count": null,
      "outputs": []
    },
    {
      "cell_type": "code",
      "source": [
        "# Agregamos un plot para visualizar graficamente la distribución\n",
        "import seaborn as sns\n",
        "import matplotlib.pyplot as plt\n",
        "\n",
        "sns.histplot(tabla_ventas[\"valor_venta\"], bins=30, kde=True, edgecolor=\"black\")\n",
        "plt.title(\"Distribución de Valor de Venta con Curva de Densidad\")\n",
        "plt.xlabel(\"Valor de venta\")\n",
        "plt.ylabel(\"Frecuencia\")\n",
        "plt.show()"
      ],
      "metadata": {
        "id": "g6OmSzl7p6YX"
      },
      "execution_count": null,
      "outputs": []
    },
    {
      "cell_type": "code",
      "source": [
        "# Calcular el percentil 75 (umbral de alto rendimiento)\n",
        "umbral_ventas = tabla_ventas[\"valor_venta\"].quantile(0.75)\n",
        "umbral_ventas"
      ],
      "metadata": {
        "id": "DoY3wLRZp9Gv"
      },
      "execution_count": null,
      "outputs": []
    },
    {
      "cell_type": "code",
      "source": [
        "# Identificar productos que superan el umbral\n",
        "# productos_top = tabla_ventas.query(\"valor_venta >= @umbral\")\n",
        "productos_top = tabla_ventas[tabla_ventas[\"valor_venta\"] >= umbral_ventas]\n",
        "productos_top"
      ],
      "metadata": {
        "id": "_JpLxcWbp_yk"
      },
      "execution_count": null,
      "outputs": []
    },
    {
      "cell_type": "markdown",
      "source": [],
      "metadata": {
        "id": "JqHZhwLcpMmJ"
      }
    },
    {
      "cell_type": "markdown",
      "source": [
        "# Etapa 2\n",
        "## Agregación de datos\n",
        "#Actividad 3\n",
        "\n",
        " Resumir las ventas por categoría de producto y analizar los ingresos generados."
      ],
      "metadata": {
        "id": "9jHddaRJpNAn"
      }
    },
    {
      "cell_type": "code",
      "source": [
        "df_ventas.columns"
      ],
      "metadata": {
        "id": "QxKniOpvphRW"
      },
      "execution_count": null,
      "outputs": []
    },
    {
      "cell_type": "code",
      "source": [
        "# Agrupamos por categoria y agregamos la suma\n",
        "ventas_categoria = df_ventas.groupby(\"categoria\", as_index=False)[\"valor_venta\"].sum()\n",
        "ventas_categoria.head()"
      ],
      "metadata": {
        "id": "Lo5ejTCPpkKJ"
      },
      "execution_count": null,
      "outputs": []
    },
    {
      "cell_type": "code",
      "source": [
        "ventas_categoria"
      ],
      "metadata": {
        "id": "bVelU10WpmRN"
      },
      "execution_count": null,
      "outputs": []
    },
    {
      "cell_type": "code",
      "source": [
        "# Ordenar y mostrar los resultados\n",
        "ventas_categoria"
      ],
      "metadata": {
        "id": "Wikrda-NpotN"
      },
      "execution_count": null,
      "outputs": []
    },
    {
      "cell_type": "markdown",
      "source": [],
      "metadata": {
        "id": "i5h2uuB8qFrC"
      }
    },
    {
      "cell_type": "markdown",
      "source": [
        "# Etapa 2\n",
        "## Integración de datos\n",
        "#Actividad 4\n",
        "\n",
        " Combinar los sets de datos de ventas y marketing para obtener una visión más amplia de las tendencias."
      ],
      "metadata": {
        "id": "WEjer6-cqGCI"
      }
    },
    {
      "cell_type": "code",
      "source": [
        "df_ventas.info()"
      ],
      "metadata": {
        "id": "4ShTNf5TqTc7"
      },
      "execution_count": null,
      "outputs": []
    },
    {
      "cell_type": "code",
      "source": [
        "df_marketing.info()"
      ],
      "metadata": {
        "id": "mCFlVaISqVob"
      },
      "execution_count": null,
      "outputs": []
    },
    {
      "cell_type": "code",
      "source": [
        "# Vemos la cantidad de productos unicos en ventas\n",
        "df_ventas[\"producto\"].nunique()"
      ],
      "metadata": {
        "id": "6LEQFL42qYtD"
      },
      "execution_count": null,
      "outputs": []
    },
    {
      "cell_type": "code",
      "source": [
        "# Vemos la cantidad de productos unicos en marketing\n",
        "df_marketing[\"producto\"].nunique()"
      ],
      "metadata": {
        "id": "FKx8-S36qbG8"
      },
      "execution_count": null,
      "outputs": []
    },
    {
      "cell_type": "code",
      "source": [
        "# Listamos los registros de ventas ordenados por producto ascendiente\n",
        "df_ventas.sort_values(by=\"producto\", ascending=True )"
      ],
      "metadata": {
        "id": "GWI3c0cdqdV2"
      },
      "execution_count": null,
      "outputs": []
    },
    {
      "cell_type": "code",
      "source": [
        "# Listamos los registros de marketing ordenados por producto ascendiente\n",
        "df_marketing.sort_values(by=[\"producto\",\"canal\"])"
      ],
      "metadata": {
        "id": "F52-7cIOqfss"
      },
      "execution_count": null,
      "outputs": []
    },
    {
      "cell_type": "code",
      "source": [
        "# Para evitar duplicados, habria que agrupar marketing antes de hacer el merge (a costa de perder la fecha)\n",
        "df_marketing_avg = df_marketing.groupby([\"producto\"], as_index=False)[\"costo\"].mean()\n",
        "df_marketing_avg"
      ],
      "metadata": {
        "id": "Q1u3VZdPqh1o"
      },
      "execution_count": null,
      "outputs": []
    },
    {
      "cell_type": "code",
      "source": [
        "# Unir los datasets ventas y marketing por columna 'producto'\n",
        "# Aqui tienen dos caminos, unir ventas con df_marketing que tiene duplicados\n",
        "ventas_marketing = pd.merge(df_ventas, df_marketing, on=\"producto\", how=\"left\")\n",
        "# O, unir ventar con df_marketing_avg que no tiene duplicados, pero no tiene fechas\n",
        "# ventas_marketing = pd.merge(df_ventas, df_marketing_avg, on=\"producto\", how=\"inner\")"
      ],
      "metadata": {
        "id": "ozSJveC-qk1P"
      },
      "execution_count": null,
      "outputs": []
    },
    {
      "cell_type": "code",
      "source": [
        "# Verificar coincidencias (muestra)\n",
        "ventas_marketing.sort_values(by=[\"producto\", \"precio\"], ascending=True)\n",
        "\n",
        "# Nota1: si unieron ventas con marketing, obtienen 8994 registros\n",
        "# Nota2: si unieron ventas con marketing_avg obtienen 2998 registros"
      ],
      "metadata": {
        "id": "1C-OM74oqnd7"
      },
      "execution_count": null,
      "outputs": []
    },
    {
      "cell_type": "markdown",
      "source": [],
      "metadata": {
        "id": "G19p68IBqu0B"
      }
    },
    {
      "cell_type": "markdown",
      "source": [
        "# ANÁLISIS DEL IMPACTO DE CAMPAÑA\n",
        "\n",
        "Ver"
      ],
      "metadata": {
        "id": "ECBRgbDvqvQV"
      }
    },
    {
      "cell_type": "code",
      "source": [
        "# Nos quedamos solo con los registros de ventas durante la campaña de marketing\n",
        "# Nota: si trabajan con el datafrane marketing pueden aplicar el filtro,\n",
        "# si trabajan con dataframe marketing_avg, al no tener fecha, no apliquen el filtro.\n",
        "\n",
        "ganancias_marketing = ventas_marketing.query(\"fecha_venta > fecha_inicio & fecha_venta < fecha_fin\")\n",
        "\n",
        "# Seleccionamos solo los campos que nos interesan: \"producto\", \"valor_venta\", \"costo\"\n",
        "ganancias_marketing = ganancias_marketing[[\"producto\", \"valor_venta\", \"costo\"]]\n",
        "ganancias_marketing.sort_values(by=\"producto\", ascending=True)"
      ],
      "metadata": {
        "id": "cW3VG9tarWyP"
      },
      "execution_count": null,
      "outputs": []
    },
    {
      "cell_type": "code",
      "source": [
        "# Agrupamos por producto y hacemos una agregación por \"valor de venta\" y \"costo\"\n",
        "ganancias_marketing = ganancias_marketing.groupby(\"producto\")[[\"valor_venta\",\"costo\"]].sum()"
      ],
      "metadata": {
        "id": "NftP3unbrZPv"
      },
      "execution_count": null,
      "outputs": []
    },
    {
      "cell_type": "code",
      "source": [
        "# Generamos una nueva columna con la diferencia entre lo vendido y lo invertido en la campaña\n",
        "ganancias_marketing[\"ganancia_neta\"] = ganancias_marketing['valor_venta']-ganancias_marketing['costo']\n",
        "ganancias_marketing=ganancias_marketing.sort_values(by=\"ganancia_neta\", ascending=False)"
      ],
      "metadata": {
        "id": "pMMTF-dIrcA5"
      },
      "execution_count": null,
      "outputs": []
    },
    {
      "cell_type": "code",
      "source": [
        "# Crear un gráfico de barras apilado para comparar valor_venta y costo por producto\n",
        "ganancias_marketing[[\"valor_venta\", \"costo\"]].plot(kind='bar', stacked=True, figsize=(12, 6))\n",
        "plt.title(\"Comparación de Valor de Venta y Costo por Producto\")\n",
        "plt.xlabel(\"Producto\")\n",
        "plt.ylabel(\"Monto\")\n",
        "plt.xticks(rotation=90)\n",
        "plt.tight_layout()\n",
        "plt.show()\n"
      ],
      "metadata": {
        "id": "VN9VcbyprelG"
      },
      "execution_count": null,
      "outputs": []
    },
    {
      "cell_type": "markdown",
      "source": [],
      "metadata": {
        "id": "r36-Vkdgrg7h"
      }
    },
    {
      "cell_type": "markdown",
      "source": [
        "# Solución al problema de los duplicados\n",
        "\n",
        "Ver"
      ],
      "metadata": {
        "id": "-l2nkZy7rhU6"
      }
    },
    {
      "cell_type": "code",
      "source": [
        "# Hacemos el merge entre marketing y ventas por columna producto\n",
        "marketing_ventas = pd.merge(df_marketing, df_ventas, on=\"producto\", how=\"inner\")\n",
        "marketing_ventas.sort_values(by=\"producto\", ascending=True)"
      ],
      "metadata": {
        "id": "9mZ07PT_rnXt"
      },
      "execution_count": null,
      "outputs": []
    },
    {
      "cell_type": "code",
      "source": [
        "# filtramos solo aquellos productos que se hayan vendido dentro de la campaña\n",
        "marketing_ventas_pp1 = marketing_ventas.query(\"fecha_venta > fecha_inicio & fecha_venta < fecha_fin\")"
      ],
      "metadata": {
        "id": "09Kcw4airp0G"
      },
      "execution_count": null,
      "outputs": []
    },
    {
      "cell_type": "code",
      "source": [
        "# Calculamos el total_ventas por producto haciendo valor_venta * cantidad\n",
        "marketing_ventas_pp2 = marketing_ventas_pp1.copy() # para eliminar la advertencia\n",
        "marketing_ventas_pp2[\"total_venta\"] = (\n",
        "    marketing_ventas_pp2[\"valor_venta\"] * marketing_ventas_pp2[\"cantidad\"]"
      ],
      "metadata": {
        "id": "6LR_oiiIrsOJ"
      },
      "execution_count": null,
      "outputs": []
    },
    {
      "cell_type": "code",
      "source": [
        "# Agrupamos el dataframe por producto usando .agg\n",
        "# Agregar total_venta como el promedio, elimina el impacto de los datos duplicados\n",
        "# Y seguimos agegando costo como la suma de lo invertido en cada canal\n",
        "ganancias_marketing = marketing_ventas_pp2.groupby(\"producto\").agg(\n",
        "    {\n",
        "        \"total_venta\": \"mean\",\n",
        "        \"costo\": \"sum\",\n",
        "    }\n",
        ")"
      ],
      "metadata": {
        "id": "FQrATHrarvZa"
      },
      "execution_count": null,
      "outputs": []
    },
    {
      "cell_type": "code",
      "source": [
        "# A partir de venta_total y costo, calculamos la ganancia obtenida\n",
        "ganancias_marketing[\"ganancia\"]= ganancias_marketing[\"total_venta\"]-ganancias_marketing[\"costo\"]\n",
        "ganancias_marketing = ganancias_marketing.sort_values(by=\"ganancia\", ascending=False)\n",
        "ganancias_marketing.head(3)"
      ],
      "metadata": {
        "id": "-xmcK5x1rxwv"
      },
      "execution_count": null,
      "outputs": []
    },
    {
      "cell_type": "code",
      "source": [
        "# Crear un gráfico de barras apilado para comparar valor_venta y costo por producto\n",
        "ganancias_marketing[[\"total_venta\", \"costo\"]].plot(kind='bar', stacked=True, figsize=(12, 6))\n",
        "plt.title(\"Comparación de Valor de Venta y Costo por Producto\")\n",
        "plt.xlabel(\"Producto\")\n",
        "plt.ylabel(\"Monto\")\n",
        "plt.xticks(rotation=90)\n",
        "plt.tight_layout()\n",
        "plt.show()"
      ],
      "metadata": {
        "id": "FpX7aYjWr1R4"
      },
      "execution_count": null,
      "outputs": []
    },
    {
      "cell_type": "markdown",
      "source": [
        "Ahora en el gráfico los costos de campañas de marketing sin más signficativos."
      ],
      "metadata": {
        "id": "Ctogs4hHr334"
      }
    }
  ]
}