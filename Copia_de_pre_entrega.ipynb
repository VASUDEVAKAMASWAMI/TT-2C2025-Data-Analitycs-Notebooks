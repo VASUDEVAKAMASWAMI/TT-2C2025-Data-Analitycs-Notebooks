{
  "nbformat": 4,
  "nbformat_minor": 0,
  "metadata": {
    "colab": {
      "provenance": [],
      "authorship_tag": "ABX9TyMKR+vqK1xkmyQ5WYgOmD5W",
      "include_colab_link": true
    },
    "kernelspec": {
      "name": "python3",
      "display_name": "Python 3"
    },
    "language_info": {
      "name": "python"
    }
  },
  "cells": [
    {
      "cell_type": "markdown",
      "metadata": {
        "id": "view-in-github",
        "colab_type": "text"
      },
      "source": [
        "<a href=\"https://colab.research.google.com/github/VASUDEVAKAMASWAMI/TT-2C2025-Data-Analitycs-Notebooks/blob/main/Copia_de_pre_entrega.ipynb\" target=\"_parent\"><img src=\"https://colab.research.google.com/assets/colab-badge.svg\" alt=\"Open In Colab\"/></a>"
      ]
    },
    {
      "cell_type": "code",
      "execution_count": null,
      "metadata": {
        "id": "4a8iMvDHV7-j"
      },
      "outputs": [],
      "source": [
        "PRE-ENTREGA (Análisis de datos con Pyhon)\n",
        "Julio Carossella - 11.180.709"
      ]
    },
    {
      "cell_type": "markdown",
      "source": [
        "# Etapa 1: Recopilación y Preparación de Datos (Clases 1 a 4)\n",
        "Objetivo: Demostrar habilidades en Python, familiaridad con el entorno de trabajo y conocimientos básicos sobre manipulación de datos."
      ],
      "metadata": {
        "id": "pAqIYSviWRDh"
      }
    },
    {
      "cell_type": "markdown",
      "source": [
        "### Actividad 1 ---> Importar los DataSets\n",
        "Crear un documento en Google Colaboratory y cargar los sets de datos como DataFrames."
      ],
      "metadata": {
        "id": "zKXDYIFZWgsa"
      }
    },
    {
      "cell_type": "code",
      "source": [
        "import pandas as pd\n"
      ],
      "metadata": {
        "id": "TEVuAi9rWlaT"
      },
      "execution_count": null,
      "outputs": []
    },
    {
      "cell_type": "code",
      "source": [
        "# Importar dataset ventas\n",
        "df_ventas = pd.read_csv(\"https://raw.githubusercontent.com/VASUDEVAKAMASWAMI/TT-2C2025-Data-Analitycs-Notebooks/refs/heads/main/PreEntrega/Datasets/ventas.csv\")"
      ],
      "metadata": {
        "id": "CQKjk4tXZt09"
      },
      "execution_count": null,
      "outputs": []
    },
    {
      "cell_type": "code",
      "source": [
        "# Importar dataset clientes\n",
        "df_clientes = pd.read_csv(\"https://raw.githubusercontent.com/VASUDEVAKAMASWAMI/TT-2C2025-Data-Analitycs-Notebooks/refs/heads/main/PreEntrega/Datasets/clientes.csv\")"
      ],
      "metadata": {
        "id": "dD2PBDcouOni"
      },
      "execution_count": null,
      "outputs": []
    },
    {
      "cell_type": "code",
      "source": [
        "# Importar dataset marketing\n",
        "df_marketing = pd.read_csv(\"https://raw.githubusercontent.com/VASUDEVAKAMASWAMI/TT-2C2025-Data-Analitycs-Notebooks/refs/heads/main/PreEntrega/Datasets/marketing.csv\")"
      ],
      "metadata": {
        "id": "Z7xMFswbuUdz"
      },
      "execution_count": null,
      "outputs": []
    },
    {
      "cell_type": "code",
      "source": [
        "# Comprobación importación del dataset ventas (retornar primeras cinco filas)\n",
        "df_ventas.head()"
      ],
      "metadata": {
        "id": "naLg_EA2cFUU"
      },
      "execution_count": null,
      "outputs": []
    },
    {
      "cell_type": "code",
      "source": [
        "# Comprobación importación del dataset clientes (retornar primeras cinco filas)\n",
        "df_clientes.head()"
      ],
      "metadata": {
        "id": "mteLAWawcsiW"
      },
      "execution_count": null,
      "outputs": []
    },
    {
      "cell_type": "code",
      "source": [
        "# Comprobación importación del dataset marketing (retornar primeras cinco filas)\n",
        "df_marketing.head()"
      ],
      "metadata": {
        "id": "lafm2mZWcupo"
      },
      "execution_count": null,
      "outputs": []
    },
    {
      "cell_type": "markdown",
      "source": [
        "### Actividad 2:  Script básico\n",
        "Realizar un script básico que calcule las ventas mensuales utilizando variables y operadores"
      ],
      "metadata": {
        "id": "v0sC7Z_I3slJ"
      }
    },
    {
      "cell_type": "code",
      "source": [
        "\n",
        "# Generación de una lista de diccionarios\n",
        "ventas = [\n",
        "  {'producto': 'notebook', 'precio': 1500.0, 'cantidad': 3, 'fecha_venta': \"21/01/2024\"},\n",
        "  {'producto': 'disco sólido 15GB', 'precio': 20000.0, 'cantidad': 5, 'fecha_venta': \"28/01/2024\"},\n",
        "  {'producto': 'monitor', 'precio': 500.0, 'cantidad': 5, 'fecha_venta': \"25/02/2024\"},\n",
        "  {'producto': 'mouse', 'precio': 20.0, 'cantidad': 15, 'fecha_venta': \"02/03/2024\"},\n",
        "  {'producto': 'cooler', 'precio': 500.0, 'cantidad': 3, 'fecha_venta': \"03/04/2024\"},\n",
        "  {'producto': 'cable usb', 'precio': 500.0, 'cantidad': 5, 'fecha_venta': \"10/05/2024\"},\n",
        "  {'producto': 'memoria usb', 'precio': 500.0, 'cantidad': 25, 'fecha_venta': \"11/06/2024\"},\n",
        "  {'producto': 'disco rígido 1GB', 'precio': 1000.0, 'cantidad': 5, 'fecha_venta': \"15/07/2024\"},\n",
        "  {'producto': 'disco rígido 2GB', 'precio': 2000.0, 'cantidad': 6, 'fecha_venta': \"29/08/2024\"},\n",
        "  {'producto': 'disco rígido 4GB', 'precio': 4000.0, 'cantidad': 8, 'fecha_venta': \"23/09/2024\"},\n",
        "  {'producto': 'disco sólido 50GB', 'precio': 10000.0, 'cantidad': 5, 'fecha_venta': \"05/10/2024\"},\n",
        "  {'producto': 'disco sólido 100GB', 'precio': 15000.0, 'cantidad': 15, 'fecha_venta': \"17/11/2024\"},\n",
        "  {'producto': 'disco sólido 15GB', 'precio': 20000.0, 'cantidad': 1, 'fecha_venta': \"22/12/2024\"},\n",
        "  {'producto': 'disco sólido 20GB', 'precio': 25000.0, 'cantidad': 1, 'fecha_venta': \"27/12/2024\"}\n",
        "  ]\n"
      ],
      "metadata": {
        "id": "UaVozVWU6tIF"
      },
      "execution_count": null,
      "outputs": []
    },
    {
      "cell_type": "code",
      "source": [
        "\n",
        "# creamos el diccionario vacío ventas_mensuales\n",
        "ventas_mensuales={}\n",
        "\n",
        "# Recorremos el diccionario ventas y ubicamos las ventas  correspondientes a cada mes range(1,13)\n",
        "# Si el índice correspondiente al mes ya se encuentra en el diccionario sumamos el p*q, y si no está, entonces agregamos el producto p*q para ese índice (mes)\n",
        "for venta in ventas:\n",
        "  for m in range(1,13):\n",
        "    if (int(venta[\"fecha_venta\"].split(\"/\")[1]))==m:\n",
        "      if m in ventas_mensuales:\n",
        "        ventas_mensuales[m] += venta[\"precio\"] * venta[\"cantidad\"]\n",
        "      else:\n",
        "        ventas_mensuales[m] = venta[\"precio\"] * venta[\"cantidad\"]\n",
        "# Ordenamos el diccionario ventas_mensuales por su índice (mes) y finalmente lo imprimimos para visualizar las ventas realizadas en cada mes.\n",
        "\n",
        "ventas_mensuales = dict(sorted(ventas_mensuales.items()))\n",
        "ventas_mensuales\n"
      ],
      "metadata": {
        "id": "LqBosNPQPkTP"
      },
      "execution_count": null,
      "outputs": []
    },
    {
      "cell_type": "markdown",
      "source": [
        "### Actividad 3: Estructuras de Datos\n",
        "\n",
        "Desarrollar un programa que almacene los datos de ventas (producto, precio, cantidad). Decidir si conviene utilizar diccionarios o listas."
      ],
      "metadata": {
        "id": "GF5uDiPx4qNh"
      }
    },
    {
      "cell_type": "markdown",
      "source": [
        "### Actividad 4: Introducción a Pandas\n",
        "\n",
        "Realizar un análisis exploratorio inicial de los DataFrames.\n",
        "\n",
        "El objetivo del análisis exploratorio de datos (EDA) es evaluar conjuntos de datos para resumir sus características principales, descubrir patrones, detectar anomalías y verificar hipótesis y/o suposiciones.\n",
        "\n",
        "Algunos de los principales métodos EDA que hemos estudiado son: info, columns, dtypes, head, tail, sample, unique, value_counts, describe, duplicated, isnull.\n"
      ],
      "metadata": {
        "id": "_G9pR3_k58X6"
      }
    },
    {
      "cell_type": "markdown",
      "source": [
        "# DATAFRAME ventas\n",
        "##Análisis exploratorio de datos"
      ],
      "metadata": {
        "id": "bjv2Jv5gbHcS"
      }
    },
    {
      "cell_type": "code",
      "source": [
        "#  El método info() no devuelve ningún valor, sólo imprime información sobre el DataFrame.\n",
        "# Dicha información incluye el número de columnas (3035), las etiquetas de las columnas (\"id_venta\", \"producto\", \"precio\", \"cantidad\", \"fecha_venta\" y \"categoría\"), los tipos de datos de las columnas (int64, objecto, float64),\n",
        "# el uso de la memoria (142.4+ K), el índice de rango (RangeIndex: 0,1,2...) y el número de celdas en cada columna (valores no nulos).\n",
        "# OBSERVACIONES:  las columnas \"precio\" y \"cantidad\" poseen dos valores nulos\n",
        "df_ventas.info()\n",
        "\n"
      ],
      "metadata": {
        "id": "w2VogDGPs6kW",
        "colab": {
          "base_uri": "https://localhost:8080/"
        },
        "outputId": "eea8eba3-09c8-4dba-e5b5-9865663cc132"
      },
      "execution_count": null,
      "outputs": [
        {
          "output_type": "stream",
          "name": "stdout",
          "text": [
            "<class 'pandas.core.frame.DataFrame'>\n",
            "RangeIndex: 2998 entries, 0 to 2997\n",
            "Data columns (total 7 columns):\n",
            " #   Column       Non-Null Count  Dtype         \n",
            "---  ------       --------------  -----         \n",
            " 0   id_venta     2998 non-null   int64         \n",
            " 1   producto     2998 non-null   object        \n",
            " 2   precio       2998 non-null   float64       \n",
            " 3   cantidad     2998 non-null   int64         \n",
            " 4   fecha_venta  2998 non-null   datetime64[ns]\n",
            " 5   categoria    2998 non-null   object        \n",
            " 6   valor_venta  2998 non-null   float64       \n",
            "dtypes: datetime64[ns](1), float64(2), int64(2), object(2)\n",
            "memory usage: 164.1+ KB\n"
          ]
        }
      ]
    },
    {
      "cell_type": "code",
      "source": [
        "# El método head(n) devuelve los encabezados y el número especificado (n) de filas del DataFrame. Si no se especifica el n, por defecto devuelve las primeras cinco filas.\n",
        "# El método tail(n) permite visualizar los encabezados y las últimas n filas del DataFrame. Si no se especifica el n, por defecto devuelve las últimas cinco filas.\n",
        "#df_ventas.head()\n",
        "df_ventas.tail(10)"
      ],
      "metadata": {
        "id": "PqmBJL5Ps75e"
      },
      "execution_count": null,
      "outputs": []
    },
    {
      "cell_type": "code",
      "source": [
        "# El método sample(n) devuelve los encabezados y n registros al azar.  Si no se especifica el n, por defecto devuelve  sólo una fila.\n",
        "df_ventas.sample(3)"
      ],
      "metadata": {
        "id": "makKW4K-tB4m"
      },
      "execution_count": null,
      "outputs": []
    },
    {
      "cell_type": "code",
      "source": [
        "# El método .sample(n) permite muestrear sólo una o algunas columnas especificadas a través de una lista.\n",
        "#df_ventas[\"producto\"].sample(5)\n",
        "df_ventas[[\"producto\",\"precio\"]].sample(5)"
      ],
      "metadata": {
        "id": "0f3ybDnvtEbm"
      },
      "execution_count": null,
      "outputs": []
    },
    {
      "cell_type": "code",
      "source": [
        "# el método .describe() de los dataframes presenta un resumen de la estadistica descriptiva general de las columnas numericas del dataframe:\n",
        "#Promedio (mean)\n",
        "#Desviacion estandard (std)\n",
        "#Valor minimo\n",
        "#Valor maximo\n",
        "#Cuartiles (25%, 50% y 75%)\n",
        "df_ventas.describe()"
      ],
      "metadata": {
        "id": "5vZPdD9MSzM7"
      },
      "execution_count": null,
      "outputs": []
    },
    {
      "cell_type": "code",
      "source": [
        "# Muestreo al azar de la columna o Series \"fecha_venta\"\n",
        "df_ventas[\"fecha_venta\"].sample(5)"
      ],
      "metadata": {
        "id": "5YlmCY0HtK4w"
      },
      "execution_count": null,
      "outputs": []
    },
    {
      "cell_type": "code",
      "source": [
        "# Análisis de la columna o Series \"categoria\"\n",
        "# El método value_counts()\tretorna el número de filas únicas\n",
        "#df_ventas[\"categoria\"].value_counts()\n",
        "\n",
        "# El métod .unique() extrae los diferentes valores de una Series  (o columna única de un DF). Devuelve un array NumPy conteniendo los valores únicos en orden de aparición.\n",
        "df_ventas[\"categoria\"].unique()"
      ],
      "metadata": {
        "id": "AETuK4bbtNqQ"
      },
      "execution_count": null,
      "outputs": []
    },
    {
      "cell_type": "markdown",
      "source": [],
      "metadata": {
        "id": "GwDCCIHBb_H0"
      }
    },
    {
      "cell_type": "markdown",
      "source": [
        "# DATAFRAME clientes\n",
        "##Análisis exploratorio de datos"
      ],
      "metadata": {
        "id": "6AuS3BSbb_oD"
      }
    },
    {
      "cell_type": "code",
      "source": [
        "#  El método info() no devuelve ningún valor, sólo imprime información sobre el DataFrame.\n",
        "# Dicha información incluye el número de columnas (567), las etiquetas de las columnas (\"id_cliente\", \"nombre\", \"edad\", \"ciudad\", e \"ingresos\"), los tipos de datos de las columnas (int64, objecto, float64),\n",
        "# el uso de la memoria (22.3+ K), el índice de rango (RangeIndex: 0,1,2...) y el número de celdas en cada columna (valores no nulos).\n",
        "\n",
        "# OBSERVACIONES:  No se advierte la existencia de valores nulos\n",
        "\n",
        "df_clientes.info()\n",
        "\n"
      ],
      "metadata": {
        "id": "4ye5OoDLcGdX"
      },
      "execution_count": null,
      "outputs": []
    },
    {
      "cell_type": "code",
      "source": [
        "# El método head(n) devuelve los encabezados y el número especificado (n) de filas del DataFrame. Si no se especifica el n, por defecto devuelve las primeras cinco filas.\n",
        "# El método tail(n) permite visualizar los encabezados y las últimas n filas del DataFrame. Si no se especifica el n, por defecto devuelve las últimas cinco filas.\n",
        "#df_clientes.head()\n",
        "df_clientes.tail(10)"
      ],
      "metadata": {
        "id": "hBWD7CfBcY7f"
      },
      "execution_count": null,
      "outputs": []
    },
    {
      "cell_type": "code",
      "source": [
        "# El método sample(n) devuelve los encabezados y n registros al azar.  Si no se especifica el n, por defecto devuelve  sólo una fila.\n",
        "df_clientes.sample(2)"
      ],
      "metadata": {
        "id": "2PHB3hDXcfbC"
      },
      "execution_count": null,
      "outputs": []
    },
    {
      "cell_type": "code",
      "source": [
        "# El método .sample(n) permite muestrear sólo una o algunas columnas especificadas a través de una lista, en este caso [\"nombre\",\"edad\"].\n",
        "#df_clientes[\"edad\"].sample(5)\n",
        "df_clientes[[\"nombre\",\"edad\"]].sample(5)"
      ],
      "metadata": {
        "id": "QS-z8QJicjwV"
      },
      "execution_count": null,
      "outputs": []
    },
    {
      "cell_type": "code",
      "source": [
        "# el método .describe() de los dataframes presenta un resumen de la estadistica descriptiva general de las columnas numericas del dataframe:\n",
        "#Promedio (mean)\n",
        "#Desviacion estandard (std)\n",
        "#Valor minimo\n",
        "#Valor maximo\n",
        "#Cuartiles (25%, 50% y 75%)\n",
        "df_clientes.describe()"
      ],
      "metadata": {
        "id": "ByaRh9Qbco8n"
      },
      "execution_count": null,
      "outputs": []
    },
    {
      "cell_type": "code",
      "source": [
        "# Muestreo al azar de la columna o Series \"ciudad\"\n",
        "df_clientes[\"ciudad\"].sample(5)"
      ],
      "metadata": {
        "id": "SFi655kRctot"
      },
      "execution_count": null,
      "outputs": []
    },
    {
      "cell_type": "code",
      "source": [
        "# Análisis de la columna o Series \"ciudad\"\n",
        "# El método value_counts()\tretorna el número de filas únicas.\n",
        "#df_clientes[\"id_cliente\"].value_counts()\n",
        "\n",
        "#df_clientes[\"ciudad\"].value_counts().sum()\n",
        "\n",
        "# Si sumamos el número de filas únicas de la Series \"id_cliente\", obtenemos la cantidad de registros (567) => ratificamos que no existen duplicados\n",
        "df_clientes[\"id_cliente\"].value_counts().sum()\n",
        "\n",
        "# El métod .unique() extrae los diferentes valores de una Series  (o columna única de un DF). Devuelve un array NumPy conteniendo los valores únicos en orden de aparición.\n",
        "#df_clientes[\"ciudad\"].unique()"
      ],
      "metadata": {
        "id": "zTUthCsxc5Q_"
      },
      "execution_count": null,
      "outputs": []
    },
    {
      "cell_type": "markdown",
      "source": [],
      "metadata": {
        "id": "dSOqOerNd5m8"
      }
    },
    {
      "cell_type": "markdown",
      "source": [
        "# DATAFRAME marketing\n",
        "##Análisis exploratorio de datos"
      ],
      "metadata": {
        "id": "Yf0cNxZrd6Df"
      }
    },
    {
      "cell_type": "code",
      "source": [
        "#  El método info() no devuelve ningún valor, sólo imprime información sobre el DataFrame.\n",
        "# Dicha información incluye el número de columnas (3035), las etiquetas de las columnas (\"id_campanha\", \"producto\", \"canal\", \"costo\", \"fecha_inicio\" y \"fecha_fin\"), los tipos de datos de las columnas (int64, objecto, float64),\n",
        "# el uso de la memoria (4.3+ K), el índice de rango (RangeIndex: 0,1,2...) y el número de celdas en cada columna (valores no nulos).\n",
        "\n",
        "# OBSERVACIONES:  No se advierte la existencia de valores nulos\n",
        "\n",
        "df_marketing.info()\n",
        "\n"
      ],
      "metadata": {
        "id": "-nTMJgr0eHoG",
        "colab": {
          "base_uri": "https://localhost:8080/"
        },
        "outputId": "bf7e07f5-bd1a-40ec-d686-8007c5061c61"
      },
      "execution_count": null,
      "outputs": [
        {
          "output_type": "stream",
          "name": "stdout",
          "text": [
            "<class 'pandas.core.frame.DataFrame'>\n",
            "RangeIndex: 90 entries, 0 to 89\n",
            "Data columns (total 6 columns):\n",
            " #   Column        Non-Null Count  Dtype         \n",
            "---  ------        --------------  -----         \n",
            " 0   id_campanha   90 non-null     int64         \n",
            " 1   producto      90 non-null     object        \n",
            " 2   canal         90 non-null     object        \n",
            " 3   costo         90 non-null     float64       \n",
            " 4   fecha_inicio  90 non-null     datetime64[ns]\n",
            " 5   fecha_fin     90 non-null     datetime64[ns]\n",
            "dtypes: datetime64[ns](2), float64(1), int64(1), object(2)\n",
            "memory usage: 4.3+ KB\n"
          ]
        }
      ]
    },
    {
      "cell_type": "code",
      "source": [
        "# El método head(n) devuelve los encabezados y el número especificado (n) de filas del DataFrame. Si no se especifica el n, por defecto devuelve las primeras cinco filas.\n",
        "# El método tail(n) permite visualizar los encabezados y las últimas n filas del DataFrame. Si no se especifica el n, por defecto devuelve las últimas cinco filas.\n",
        "#df_marketing.head()\n",
        "df_marketing.tail(10)"
      ],
      "metadata": {
        "id": "zyoThJFoeOB2",
        "colab": {
          "base_uri": "https://localhost:8080/",
          "height": 363
        },
        "outputId": "2a75fdde-4749-489f-fb0f-bb9fcac83b5c"
      },
      "execution_count": null,
      "outputs": [
        {
          "output_type": "execute_result",
          "data": {
            "text/plain": [
              "    id_campanha            producto  canal  costo fecha_inicio  fecha_fin\n",
              "80           90              Laptop     TV   5.62   2024-11-16 2025-01-13\n",
              "81           59           Televisor  Email   4.19   2024-11-20 2025-01-19\n",
              "82           25          SmartWatch   RRSS   4.84   2024-11-23 2024-12-29\n",
              "83           41  Freidora eléctrica  Email   3.92   2024-11-23 2025-01-01\n",
              "84           28            Alfombra   RRSS   5.82   2024-11-27 2025-01-08\n",
              "85           70          Aspiradora     TV   3.06   2024-12-13 2024-12-29\n",
              "86           89           Televisor     TV   4.98   2024-12-13 2025-02-08\n",
              "87           68   Rincón de plantas     TV   5.81   2024-12-17 2025-02-14\n",
              "88           33            Secadora  Email   3.80   2024-12-20 2025-01-07\n",
              "89           11  Freidora eléctrica   RRSS   5.27   2024-12-29 2025-01-21"
            ],
            "text/html": [
              "\n",
              "  <div id=\"df-ae5f3ce7-18a9-4c8d-ac17-bca0472ab25d\" class=\"colab-df-container\">\n",
              "    <div>\n",
              "<style scoped>\n",
              "    .dataframe tbody tr th:only-of-type {\n",
              "        vertical-align: middle;\n",
              "    }\n",
              "\n",
              "    .dataframe tbody tr th {\n",
              "        vertical-align: top;\n",
              "    }\n",
              "\n",
              "    .dataframe thead th {\n",
              "        text-align: right;\n",
              "    }\n",
              "</style>\n",
              "<table border=\"1\" class=\"dataframe\">\n",
              "  <thead>\n",
              "    <tr style=\"text-align: right;\">\n",
              "      <th></th>\n",
              "      <th>id_campanha</th>\n",
              "      <th>producto</th>\n",
              "      <th>canal</th>\n",
              "      <th>costo</th>\n",
              "      <th>fecha_inicio</th>\n",
              "      <th>fecha_fin</th>\n",
              "    </tr>\n",
              "  </thead>\n",
              "  <tbody>\n",
              "    <tr>\n",
              "      <th>80</th>\n",
              "      <td>90</td>\n",
              "      <td>Laptop</td>\n",
              "      <td>TV</td>\n",
              "      <td>5.62</td>\n",
              "      <td>2024-11-16</td>\n",
              "      <td>2025-01-13</td>\n",
              "    </tr>\n",
              "    <tr>\n",
              "      <th>81</th>\n",
              "      <td>59</td>\n",
              "      <td>Televisor</td>\n",
              "      <td>Email</td>\n",
              "      <td>4.19</td>\n",
              "      <td>2024-11-20</td>\n",
              "      <td>2025-01-19</td>\n",
              "    </tr>\n",
              "    <tr>\n",
              "      <th>82</th>\n",
              "      <td>25</td>\n",
              "      <td>SmartWatch</td>\n",
              "      <td>RRSS</td>\n",
              "      <td>4.84</td>\n",
              "      <td>2024-11-23</td>\n",
              "      <td>2024-12-29</td>\n",
              "    </tr>\n",
              "    <tr>\n",
              "      <th>83</th>\n",
              "      <td>41</td>\n",
              "      <td>Freidora eléctrica</td>\n",
              "      <td>Email</td>\n",
              "      <td>3.92</td>\n",
              "      <td>2024-11-23</td>\n",
              "      <td>2025-01-01</td>\n",
              "    </tr>\n",
              "    <tr>\n",
              "      <th>84</th>\n",
              "      <td>28</td>\n",
              "      <td>Alfombra</td>\n",
              "      <td>RRSS</td>\n",
              "      <td>5.82</td>\n",
              "      <td>2024-11-27</td>\n",
              "      <td>2025-01-08</td>\n",
              "    </tr>\n",
              "    <tr>\n",
              "      <th>85</th>\n",
              "      <td>70</td>\n",
              "      <td>Aspiradora</td>\n",
              "      <td>TV</td>\n",
              "      <td>3.06</td>\n",
              "      <td>2024-12-13</td>\n",
              "      <td>2024-12-29</td>\n",
              "    </tr>\n",
              "    <tr>\n",
              "      <th>86</th>\n",
              "      <td>89</td>\n",
              "      <td>Televisor</td>\n",
              "      <td>TV</td>\n",
              "      <td>4.98</td>\n",
              "      <td>2024-12-13</td>\n",
              "      <td>2025-02-08</td>\n",
              "    </tr>\n",
              "    <tr>\n",
              "      <th>87</th>\n",
              "      <td>68</td>\n",
              "      <td>Rincón de plantas</td>\n",
              "      <td>TV</td>\n",
              "      <td>5.81</td>\n",
              "      <td>2024-12-17</td>\n",
              "      <td>2025-02-14</td>\n",
              "    </tr>\n",
              "    <tr>\n",
              "      <th>88</th>\n",
              "      <td>33</td>\n",
              "      <td>Secadora</td>\n",
              "      <td>Email</td>\n",
              "      <td>3.80</td>\n",
              "      <td>2024-12-20</td>\n",
              "      <td>2025-01-07</td>\n",
              "    </tr>\n",
              "    <tr>\n",
              "      <th>89</th>\n",
              "      <td>11</td>\n",
              "      <td>Freidora eléctrica</td>\n",
              "      <td>RRSS</td>\n",
              "      <td>5.27</td>\n",
              "      <td>2024-12-29</td>\n",
              "      <td>2025-01-21</td>\n",
              "    </tr>\n",
              "  </tbody>\n",
              "</table>\n",
              "</div>\n",
              "    <div class=\"colab-df-buttons\">\n",
              "\n",
              "  <div class=\"colab-df-container\">\n",
              "    <button class=\"colab-df-convert\" onclick=\"convertToInteractive('df-ae5f3ce7-18a9-4c8d-ac17-bca0472ab25d')\"\n",
              "            title=\"Convert this dataframe to an interactive table.\"\n",
              "            style=\"display:none;\">\n",
              "\n",
              "  <svg xmlns=\"http://www.w3.org/2000/svg\" height=\"24px\" viewBox=\"0 -960 960 960\">\n",
              "    <path d=\"M120-120v-720h720v720H120Zm60-500h600v-160H180v160Zm220 220h160v-160H400v160Zm0 220h160v-160H400v160ZM180-400h160v-160H180v160Zm440 0h160v-160H620v160ZM180-180h160v-160H180v160Zm440 0h160v-160H620v160Z\"/>\n",
              "  </svg>\n",
              "    </button>\n",
              "\n",
              "  <style>\n",
              "    .colab-df-container {\n",
              "      display:flex;\n",
              "      gap: 12px;\n",
              "    }\n",
              "\n",
              "    .colab-df-convert {\n",
              "      background-color: #E8F0FE;\n",
              "      border: none;\n",
              "      border-radius: 50%;\n",
              "      cursor: pointer;\n",
              "      display: none;\n",
              "      fill: #1967D2;\n",
              "      height: 32px;\n",
              "      padding: 0 0 0 0;\n",
              "      width: 32px;\n",
              "    }\n",
              "\n",
              "    .colab-df-convert:hover {\n",
              "      background-color: #E2EBFA;\n",
              "      box-shadow: 0px 1px 2px rgba(60, 64, 67, 0.3), 0px 1px 3px 1px rgba(60, 64, 67, 0.15);\n",
              "      fill: #174EA6;\n",
              "    }\n",
              "\n",
              "    .colab-df-buttons div {\n",
              "      margin-bottom: 4px;\n",
              "    }\n",
              "\n",
              "    [theme=dark] .colab-df-convert {\n",
              "      background-color: #3B4455;\n",
              "      fill: #D2E3FC;\n",
              "    }\n",
              "\n",
              "    [theme=dark] .colab-df-convert:hover {\n",
              "      background-color: #434B5C;\n",
              "      box-shadow: 0px 1px 3px 1px rgba(0, 0, 0, 0.15);\n",
              "      filter: drop-shadow(0px 1px 2px rgba(0, 0, 0, 0.3));\n",
              "      fill: #FFFFFF;\n",
              "    }\n",
              "  </style>\n",
              "\n",
              "    <script>\n",
              "      const buttonEl =\n",
              "        document.querySelector('#df-ae5f3ce7-18a9-4c8d-ac17-bca0472ab25d button.colab-df-convert');\n",
              "      buttonEl.style.display =\n",
              "        google.colab.kernel.accessAllowed ? 'block' : 'none';\n",
              "\n",
              "      async function convertToInteractive(key) {\n",
              "        const element = document.querySelector('#df-ae5f3ce7-18a9-4c8d-ac17-bca0472ab25d');\n",
              "        const dataTable =\n",
              "          await google.colab.kernel.invokeFunction('convertToInteractive',\n",
              "                                                    [key], {});\n",
              "        if (!dataTable) return;\n",
              "\n",
              "        const docLinkHtml = 'Like what you see? Visit the ' +\n",
              "          '<a target=\"_blank\" href=https://colab.research.google.com/notebooks/data_table.ipynb>data table notebook</a>'\n",
              "          + ' to learn more about interactive tables.';\n",
              "        element.innerHTML = '';\n",
              "        dataTable['output_type'] = 'display_data';\n",
              "        await google.colab.output.renderOutput(dataTable, element);\n",
              "        const docLink = document.createElement('div');\n",
              "        docLink.innerHTML = docLinkHtml;\n",
              "        element.appendChild(docLink);\n",
              "      }\n",
              "    </script>\n",
              "  </div>\n",
              "\n",
              "\n",
              "    <div id=\"df-1a4b655b-932f-4589-9cb1-a33f91c49f03\">\n",
              "      <button class=\"colab-df-quickchart\" onclick=\"quickchart('df-1a4b655b-932f-4589-9cb1-a33f91c49f03')\"\n",
              "                title=\"Suggest charts\"\n",
              "                style=\"display:none;\">\n",
              "\n",
              "<svg xmlns=\"http://www.w3.org/2000/svg\" height=\"24px\"viewBox=\"0 0 24 24\"\n",
              "     width=\"24px\">\n",
              "    <g>\n",
              "        <path d=\"M19 3H5c-1.1 0-2 .9-2 2v14c0 1.1.9 2 2 2h14c1.1 0 2-.9 2-2V5c0-1.1-.9-2-2-2zM9 17H7v-7h2v7zm4 0h-2V7h2v10zm4 0h-2v-4h2v4z\"/>\n",
              "    </g>\n",
              "</svg>\n",
              "      </button>\n",
              "\n",
              "<style>\n",
              "  .colab-df-quickchart {\n",
              "      --bg-color: #E8F0FE;\n",
              "      --fill-color: #1967D2;\n",
              "      --hover-bg-color: #E2EBFA;\n",
              "      --hover-fill-color: #174EA6;\n",
              "      --disabled-fill-color: #AAA;\n",
              "      --disabled-bg-color: #DDD;\n",
              "  }\n",
              "\n",
              "  [theme=dark] .colab-df-quickchart {\n",
              "      --bg-color: #3B4455;\n",
              "      --fill-color: #D2E3FC;\n",
              "      --hover-bg-color: #434B5C;\n",
              "      --hover-fill-color: #FFFFFF;\n",
              "      --disabled-bg-color: #3B4455;\n",
              "      --disabled-fill-color: #666;\n",
              "  }\n",
              "\n",
              "  .colab-df-quickchart {\n",
              "    background-color: var(--bg-color);\n",
              "    border: none;\n",
              "    border-radius: 50%;\n",
              "    cursor: pointer;\n",
              "    display: none;\n",
              "    fill: var(--fill-color);\n",
              "    height: 32px;\n",
              "    padding: 0;\n",
              "    width: 32px;\n",
              "  }\n",
              "\n",
              "  .colab-df-quickchart:hover {\n",
              "    background-color: var(--hover-bg-color);\n",
              "    box-shadow: 0 1px 2px rgba(60, 64, 67, 0.3), 0 1px 3px 1px rgba(60, 64, 67, 0.15);\n",
              "    fill: var(--button-hover-fill-color);\n",
              "  }\n",
              "\n",
              "  .colab-df-quickchart-complete:disabled,\n",
              "  .colab-df-quickchart-complete:disabled:hover {\n",
              "    background-color: var(--disabled-bg-color);\n",
              "    fill: var(--disabled-fill-color);\n",
              "    box-shadow: none;\n",
              "  }\n",
              "\n",
              "  .colab-df-spinner {\n",
              "    border: 2px solid var(--fill-color);\n",
              "    border-color: transparent;\n",
              "    border-bottom-color: var(--fill-color);\n",
              "    animation:\n",
              "      spin 1s steps(1) infinite;\n",
              "  }\n",
              "\n",
              "  @keyframes spin {\n",
              "    0% {\n",
              "      border-color: transparent;\n",
              "      border-bottom-color: var(--fill-color);\n",
              "      border-left-color: var(--fill-color);\n",
              "    }\n",
              "    20% {\n",
              "      border-color: transparent;\n",
              "      border-left-color: var(--fill-color);\n",
              "      border-top-color: var(--fill-color);\n",
              "    }\n",
              "    30% {\n",
              "      border-color: transparent;\n",
              "      border-left-color: var(--fill-color);\n",
              "      border-top-color: var(--fill-color);\n",
              "      border-right-color: var(--fill-color);\n",
              "    }\n",
              "    40% {\n",
              "      border-color: transparent;\n",
              "      border-right-color: var(--fill-color);\n",
              "      border-top-color: var(--fill-color);\n",
              "    }\n",
              "    60% {\n",
              "      border-color: transparent;\n",
              "      border-right-color: var(--fill-color);\n",
              "    }\n",
              "    80% {\n",
              "      border-color: transparent;\n",
              "      border-right-color: var(--fill-color);\n",
              "      border-bottom-color: var(--fill-color);\n",
              "    }\n",
              "    90% {\n",
              "      border-color: transparent;\n",
              "      border-bottom-color: var(--fill-color);\n",
              "    }\n",
              "  }\n",
              "</style>\n",
              "\n",
              "      <script>\n",
              "        async function quickchart(key) {\n",
              "          const quickchartButtonEl =\n",
              "            document.querySelector('#' + key + ' button');\n",
              "          quickchartButtonEl.disabled = true;  // To prevent multiple clicks.\n",
              "          quickchartButtonEl.classList.add('colab-df-spinner');\n",
              "          try {\n",
              "            const charts = await google.colab.kernel.invokeFunction(\n",
              "                'suggestCharts', [key], {});\n",
              "          } catch (error) {\n",
              "            console.error('Error during call to suggestCharts:', error);\n",
              "          }\n",
              "          quickchartButtonEl.classList.remove('colab-df-spinner');\n",
              "          quickchartButtonEl.classList.add('colab-df-quickchart-complete');\n",
              "        }\n",
              "        (() => {\n",
              "          let quickchartButtonEl =\n",
              "            document.querySelector('#df-1a4b655b-932f-4589-9cb1-a33f91c49f03 button');\n",
              "          quickchartButtonEl.style.display =\n",
              "            google.colab.kernel.accessAllowed ? 'block' : 'none';\n",
              "        })();\n",
              "      </script>\n",
              "    </div>\n",
              "\n",
              "    </div>\n",
              "  </div>\n"
            ],
            "application/vnd.google.colaboratory.intrinsic+json": {
              "type": "dataframe",
              "summary": "{\n  \"name\": \"df_marketing\",\n  \"rows\": 10,\n  \"fields\": [\n    {\n      \"column\": \"id_campanha\",\n      \"properties\": {\n        \"dtype\": \"number\",\n        \"std\": 27,\n        \"min\": 11,\n        \"max\": 90,\n        \"num_unique_values\": 10,\n        \"samples\": [\n          33,\n          59,\n          70\n        ],\n        \"semantic_type\": \"\",\n        \"description\": \"\"\n      }\n    },\n    {\n      \"column\": \"producto\",\n      \"properties\": {\n        \"dtype\": \"string\",\n        \"num_unique_values\": 8,\n        \"samples\": [\n          \"Televisor\",\n          \"Aspiradora\",\n          \"Laptop\"\n        ],\n        \"semantic_type\": \"\",\n        \"description\": \"\"\n      }\n    },\n    {\n      \"column\": \"canal\",\n      \"properties\": {\n        \"dtype\": \"category\",\n        \"num_unique_values\": 3,\n        \"samples\": [\n          \"TV\",\n          \"Email\",\n          \"RRSS\"\n        ],\n        \"semantic_type\": \"\",\n        \"description\": \"\"\n      }\n    },\n    {\n      \"column\": \"costo\",\n      \"properties\": {\n        \"dtype\": \"number\",\n        \"std\": 0.9495197616573221,\n        \"min\": 3.06,\n        \"max\": 5.82,\n        \"num_unique_values\": 10,\n        \"samples\": [\n          3.8,\n          4.19,\n          3.06\n        ],\n        \"semantic_type\": \"\",\n        \"description\": \"\"\n      }\n    },\n    {\n      \"column\": \"fecha_inicio\",\n      \"properties\": {\n        \"dtype\": \"date\",\n        \"min\": \"2024-11-16 00:00:00\",\n        \"max\": \"2024-12-29 00:00:00\",\n        \"num_unique_values\": 8,\n        \"samples\": [\n          \"2024-11-20 00:00:00\",\n          \"2024-12-17 00:00:00\",\n          \"2024-11-16 00:00:00\"\n        ],\n        \"semantic_type\": \"\",\n        \"description\": \"\"\n      }\n    },\n    {\n      \"column\": \"fecha_fin\",\n      \"properties\": {\n        \"dtype\": \"date\",\n        \"min\": \"2024-12-29 00:00:00\",\n        \"max\": \"2025-02-14 00:00:00\",\n        \"num_unique_values\": 9,\n        \"samples\": [\n          \"2025-01-07 00:00:00\",\n          \"2025-01-19 00:00:00\",\n          \"2025-02-08 00:00:00\"\n        ],\n        \"semantic_type\": \"\",\n        \"description\": \"\"\n      }\n    }\n  ]\n}"
            }
          },
          "metadata": {},
          "execution_count": 164
        }
      ]
    },
    {
      "cell_type": "code",
      "source": [
        "# El método sample(n) devuelve los encabezados y n registros al azar.  Si no se especifica el n, por defecto devuelve  sólo una fila.\n",
        "df_marketing.sample(3)"
      ],
      "metadata": {
        "id": "bMcDaMoheSn-"
      },
      "execution_count": null,
      "outputs": []
    },
    {
      "cell_type": "code",
      "source": [
        "# El método .sample(n) permite muestrear sólo una o algunas columnas especificadas a través de una lista.\n",
        "#df_marketing[\"id_campaha\"].sample(5)\n",
        "df_marketing[[\"producto\",\"canal\"]].sample(5)"
      ],
      "metadata": {
        "id": "R1VAj4p5eZTl"
      },
      "execution_count": null,
      "outputs": []
    },
    {
      "cell_type": "code",
      "source": [
        "# el método .describe() de los dataframes presenta un resumen de la estadistica descriptiva general de las columnas numericas del dataframe:\n",
        "#Promedio (mean)\n",
        "#Desviacion estandard (std)\n",
        "#Valor minimo\n",
        "#Valor maximo\n",
        "#Cuartiles (25%, 50% y 75%)\n",
        "df_marketing.describe()"
      ],
      "metadata": {
        "id": "QbhfZoJsefgR"
      },
      "execution_count": null,
      "outputs": []
    },
    {
      "cell_type": "code",
      "source": [
        "# Muestreo al azar de la columna o Series \"costo\"\n",
        "df_marketing[\"costo\"].sample(5)"
      ],
      "metadata": {
        "id": "gPDDdYZeekJx"
      },
      "execution_count": null,
      "outputs": []
    },
    {
      "cell_type": "code",
      "source": [
        "# Análisis de la columna o Series \"producto\"\n",
        "# El método value_counts()\tretorna el número de filas únicas\n",
        "#df_ventas[\"producto\"].value_counts()\n",
        "\n",
        "# El métod .unique() extrae los diferentes valores de una Series  (o columna única de un DF). Devuelve un array NumPy conteniendo los valores únicos en orden de aparición.\n",
        "df_marketing[\"producto\"].unique()"
      ],
      "metadata": {
        "id": "SBg0ZRo8eon8"
      },
      "execution_count": null,
      "outputs": []
    },
    {
      "cell_type": "markdown",
      "source": [
        "### Actividad 5: Calidad de Datos\n",
        "\n",
        "Identificar valores nulos y duplicados en los conjuntos de datos. Documentar el estado inicial de los datos."
      ],
      "metadata": {
        "id": "i9zZRGHN6X8Y"
      }
    },
    {
      "cell_type": "markdown",
      "source": [
        "# DATAFRAME ventas\n",
        "##Calidad de los datos"
      ],
      "metadata": {
        "id": "DSFioAa3gzr7"
      }
    },
    {
      "cell_type": "code",
      "source": [
        "# Buscamos registros duplicados\n",
        "df_ventas.duplicated().sum()"
      ],
      "metadata": {
        "id": "YYFIg5ZRhVQD",
        "colab": {
          "base_uri": "https://localhost:8080/"
        },
        "outputId": "b02ccf16-8955-4c67-d5ea-5df900d25955"
      },
      "execution_count": null,
      "outputs": [
        {
          "output_type": "execute_result",
          "data": {
            "text/plain": [
              "np.int64(0)"
            ]
          },
          "metadata": {},
          "execution_count": 171
        }
      ]
    },
    {
      "cell_type": "code",
      "source": [
        "# Visualizamos los duplicados\n",
        "# keep: 'first', 'last', False\n",
        "df_ventas[df_ventas.duplicated(keep=False)].sort_values(by=\"producto\")"
      ],
      "metadata": {
        "id": "0d1DUHkjhYXE"
      },
      "execution_count": null,
      "outputs": []
    },
    {
      "cell_type": "code",
      "source": [
        "# Buscamos datos nulos\n",
        "df_ventas.isnull().sum()"
      ],
      "metadata": {
        "id": "TALKAzKZhbis"
      },
      "execution_count": null,
      "outputs": []
    },
    {
      "cell_type": "code",
      "source": [
        "# Visualizar los nulos\n",
        "# df_ventas[df_ventas.isnull().any(axis=1)]\n",
        "df_ventas[df_ventas.isnull().any(axis=1)]"
      ],
      "metadata": {
        "id": "3ckTCfLChfDw"
      },
      "execution_count": null,
      "outputs": []
    },
    {
      "cell_type": "code",
      "source": [
        "# Analizar los precios de los NaN a ver que opciones tenemos\n",
        "# df_ventas[df_ventas[\"producto\"]==\"Elementos de cerámica\"]\n",
        "df_ventas[\"producto\"].value_counts()\n",
        "# df_ventas[\"producto\"].unique()"
      ],
      "metadata": {
        "id": "CJw5GrBZhiPX"
      },
      "execution_count": null,
      "outputs": []
    },
    {
      "cell_type": "markdown",
      "source": [
        "### DF ventas --> Observaciones\n",
        "* Cantidad de registros: 3035\n",
        "* Columnas 6 (\"id_venta\", \"producto\", \"precio\", \"cantidad\", \"fecha_venta\" y \"categoría\")\n",
        "* 35 duplicados  ==> deben ser eliminados!\n",
        "* Algunos nulos (2), 1% del faltante, dropna\n",
        "* Campo precio: incluye el signo $ ==> debe ser removido y luego cambiar el dtype a float64.\n",
        "* Campo fecha: No posee el formato adecuado ==> debe ser ajustada a dtype datetime"
      ],
      "metadata": {
        "id": "rPb1Ge1ghl_x"
      }
    },
    {
      "cell_type": "markdown",
      "source": [
        "# DATAFRAME clientes\n",
        "##Calidad de los datos"
      ],
      "metadata": {
        "id": "5VkvV4gyhIKP"
      }
    },
    {
      "cell_type": "code",
      "source": [
        "# Buscamos registros duplicados  ==> NO EXISTEN DUPLICADOS!!!!\n",
        "df_clientes.duplicated().sum()"
      ],
      "metadata": {
        "id": "nGp2mrCOiPRR"
      },
      "execution_count": null,
      "outputs": []
    },
    {
      "cell_type": "code",
      "source": [
        "# Visualizamos los duplicados  ==> NO EXISTEN DUPLICADOS!!!!\n",
        "# keep: 'first', 'last', False\n",
        "df_clientes[df_clientes.duplicated(keep=False)].sort_values(by=\"id_cliente\")"
      ],
      "metadata": {
        "id": "9BCK0YQXiSiY"
      },
      "execution_count": null,
      "outputs": []
    },
    {
      "cell_type": "code",
      "source": [
        "# Buscamos datos nulos ==> NO EXISTEN NULLS!!!!\n",
        "df_clientes.isnull().sum()"
      ],
      "metadata": {
        "id": "WjT8ZDjSiVTn"
      },
      "execution_count": null,
      "outputs": []
    },
    {
      "cell_type": "code",
      "source": [
        "# Visualizar los nulos ==> NO EXISTEN NULLS!!!!\n",
        "# df_ventas[df_ventas.isnull().any(axis=1)]\n",
        "df_clientes[df_clientes.isnull().any(axis=1)]"
      ],
      "metadata": {
        "id": "5XmVurRLiX_0"
      },
      "execution_count": null,
      "outputs": []
    },
    {
      "cell_type": "code",
      "source": [
        "# Analizar los números de clente para ratificar que  <--- NO EXISTEN  DUPLICADOS!!!!\n",
        "\n",
        "df_clientes[\"id_cliente\"].unique()"
      ],
      "metadata": {
        "id": "VJLhvnxuibXa"
      },
      "execution_count": null,
      "outputs": []
    },
    {
      "cell_type": "markdown",
      "source": [
        "### DF clientes  --> Observaciones\n",
        "* Cantidad de registros: 567\n",
        "* Columnas 5 (\"id_cliente\", \"nombre\", \"edad\", \"ciudad\", e \"ingresos\")\n",
        "* No existen duplicados\n",
        "* No existen valores nulos\n"
      ],
      "metadata": {
        "id": "RwOla56vlV1z"
      }
    },
    {
      "cell_type": "markdown",
      "source": [
        "# DATAFRAME marketing\n",
        "##Calidad de los datos"
      ],
      "metadata": {
        "id": "dSTvIjRShJUD"
      }
    },
    {
      "cell_type": "code",
      "source": [
        "# Buscamos registros duplicados  ==> NO EXISTEN DUPLICADOS!!!!\n",
        "df_marketing.duplicated().sum()"
      ],
      "metadata": {
        "id": "GW9cxBZ9iied",
        "colab": {
          "base_uri": "https://localhost:8080/"
        },
        "outputId": "73009164-3fc1-4c3a-e574-ef81c04f8af2"
      },
      "execution_count": null,
      "outputs": [
        {
          "output_type": "execute_result",
          "data": {
            "text/plain": [
              "np.int64(0)"
            ]
          },
          "metadata": {},
          "execution_count": 159
        }
      ]
    },
    {
      "cell_type": "code",
      "source": [
        "# Visualizamos los duplicados  ==> NO EXISTEN DUPLICADOS!!!!\n",
        "# keep: 'first', 'last', False\n",
        "df_marketing[df_marketing.duplicated(keep=False)].sort_values(by=\"producto\")"
      ],
      "metadata": {
        "id": "aNh-rV_0iiee",
        "colab": {
          "base_uri": "https://localhost:8080/",
          "height": 53
        },
        "outputId": "a9d31929-109a-4ed6-b4f1-d44baeca819d"
      },
      "execution_count": null,
      "outputs": [
        {
          "output_type": "execute_result",
          "data": {
            "text/plain": [
              "Empty DataFrame\n",
              "Columns: [id_campanha, producto, canal, costo, fecha_inicio, fecha_fin]\n",
              "Index: []"
            ],
            "text/html": [
              "\n",
              "  <div id=\"df-da34f0a3-2157-499d-a875-2ea16be15926\" class=\"colab-df-container\">\n",
              "    <div>\n",
              "<style scoped>\n",
              "    .dataframe tbody tr th:only-of-type {\n",
              "        vertical-align: middle;\n",
              "    }\n",
              "\n",
              "    .dataframe tbody tr th {\n",
              "        vertical-align: top;\n",
              "    }\n",
              "\n",
              "    .dataframe thead th {\n",
              "        text-align: right;\n",
              "    }\n",
              "</style>\n",
              "<table border=\"1\" class=\"dataframe\">\n",
              "  <thead>\n",
              "    <tr style=\"text-align: right;\">\n",
              "      <th></th>\n",
              "      <th>id_campanha</th>\n",
              "      <th>producto</th>\n",
              "      <th>canal</th>\n",
              "      <th>costo</th>\n",
              "      <th>fecha_inicio</th>\n",
              "      <th>fecha_fin</th>\n",
              "    </tr>\n",
              "  </thead>\n",
              "  <tbody>\n",
              "  </tbody>\n",
              "</table>\n",
              "</div>\n",
              "    <div class=\"colab-df-buttons\">\n",
              "\n",
              "  <div class=\"colab-df-container\">\n",
              "    <button class=\"colab-df-convert\" onclick=\"convertToInteractive('df-da34f0a3-2157-499d-a875-2ea16be15926')\"\n",
              "            title=\"Convert this dataframe to an interactive table.\"\n",
              "            style=\"display:none;\">\n",
              "\n",
              "  <svg xmlns=\"http://www.w3.org/2000/svg\" height=\"24px\" viewBox=\"0 -960 960 960\">\n",
              "    <path d=\"M120-120v-720h720v720H120Zm60-500h600v-160H180v160Zm220 220h160v-160H400v160Zm0 220h160v-160H400v160ZM180-400h160v-160H180v160Zm440 0h160v-160H620v160ZM180-180h160v-160H180v160Zm440 0h160v-160H620v160Z\"/>\n",
              "  </svg>\n",
              "    </button>\n",
              "\n",
              "  <style>\n",
              "    .colab-df-container {\n",
              "      display:flex;\n",
              "      gap: 12px;\n",
              "    }\n",
              "\n",
              "    .colab-df-convert {\n",
              "      background-color: #E8F0FE;\n",
              "      border: none;\n",
              "      border-radius: 50%;\n",
              "      cursor: pointer;\n",
              "      display: none;\n",
              "      fill: #1967D2;\n",
              "      height: 32px;\n",
              "      padding: 0 0 0 0;\n",
              "      width: 32px;\n",
              "    }\n",
              "\n",
              "    .colab-df-convert:hover {\n",
              "      background-color: #E2EBFA;\n",
              "      box-shadow: 0px 1px 2px rgba(60, 64, 67, 0.3), 0px 1px 3px 1px rgba(60, 64, 67, 0.15);\n",
              "      fill: #174EA6;\n",
              "    }\n",
              "\n",
              "    .colab-df-buttons div {\n",
              "      margin-bottom: 4px;\n",
              "    }\n",
              "\n",
              "    [theme=dark] .colab-df-convert {\n",
              "      background-color: #3B4455;\n",
              "      fill: #D2E3FC;\n",
              "    }\n",
              "\n",
              "    [theme=dark] .colab-df-convert:hover {\n",
              "      background-color: #434B5C;\n",
              "      box-shadow: 0px 1px 3px 1px rgba(0, 0, 0, 0.15);\n",
              "      filter: drop-shadow(0px 1px 2px rgba(0, 0, 0, 0.3));\n",
              "      fill: #FFFFFF;\n",
              "    }\n",
              "  </style>\n",
              "\n",
              "    <script>\n",
              "      const buttonEl =\n",
              "        document.querySelector('#df-da34f0a3-2157-499d-a875-2ea16be15926 button.colab-df-convert');\n",
              "      buttonEl.style.display =\n",
              "        google.colab.kernel.accessAllowed ? 'block' : 'none';\n",
              "\n",
              "      async function convertToInteractive(key) {\n",
              "        const element = document.querySelector('#df-da34f0a3-2157-499d-a875-2ea16be15926');\n",
              "        const dataTable =\n",
              "          await google.colab.kernel.invokeFunction('convertToInteractive',\n",
              "                                                    [key], {});\n",
              "        if (!dataTable) return;\n",
              "\n",
              "        const docLinkHtml = 'Like what you see? Visit the ' +\n",
              "          '<a target=\"_blank\" href=https://colab.research.google.com/notebooks/data_table.ipynb>data table notebook</a>'\n",
              "          + ' to learn more about interactive tables.';\n",
              "        element.innerHTML = '';\n",
              "        dataTable['output_type'] = 'display_data';\n",
              "        await google.colab.output.renderOutput(dataTable, element);\n",
              "        const docLink = document.createElement('div');\n",
              "        docLink.innerHTML = docLinkHtml;\n",
              "        element.appendChild(docLink);\n",
              "      }\n",
              "    </script>\n",
              "  </div>\n",
              "\n",
              "\n",
              "    </div>\n",
              "  </div>\n"
            ],
            "application/vnd.google.colaboratory.intrinsic+json": {
              "type": "dataframe",
              "repr_error": "Out of range float values are not JSON compliant: nan"
            }
          },
          "metadata": {},
          "execution_count": 155
        }
      ]
    },
    {
      "cell_type": "code",
      "source": [
        "# Buscamos datos nulos ==> NO EXISTEN datos nulos!!!!\n",
        "df_marketing.isnull().sum()"
      ],
      "metadata": {
        "id": "TMctyyneiiee",
        "colab": {
          "base_uri": "https://localhost:8080/",
          "height": 272
        },
        "outputId": "3edf1ea7-3946-4bae-9f73-dd559d5ecceb"
      },
      "execution_count": null,
      "outputs": [
        {
          "output_type": "execute_result",
          "data": {
            "text/plain": [
              "id_campanha     0\n",
              "producto        0\n",
              "canal           0\n",
              "costo           0\n",
              "fecha_inicio    0\n",
              "fecha_fin       0\n",
              "dtype: int64"
            ],
            "text/html": [
              "<div>\n",
              "<style scoped>\n",
              "    .dataframe tbody tr th:only-of-type {\n",
              "        vertical-align: middle;\n",
              "    }\n",
              "\n",
              "    .dataframe tbody tr th {\n",
              "        vertical-align: top;\n",
              "    }\n",
              "\n",
              "    .dataframe thead th {\n",
              "        text-align: right;\n",
              "    }\n",
              "</style>\n",
              "<table border=\"1\" class=\"dataframe\">\n",
              "  <thead>\n",
              "    <tr style=\"text-align: right;\">\n",
              "      <th></th>\n",
              "      <th>0</th>\n",
              "    </tr>\n",
              "  </thead>\n",
              "  <tbody>\n",
              "    <tr>\n",
              "      <th>id_campanha</th>\n",
              "      <td>0</td>\n",
              "    </tr>\n",
              "    <tr>\n",
              "      <th>producto</th>\n",
              "      <td>0</td>\n",
              "    </tr>\n",
              "    <tr>\n",
              "      <th>canal</th>\n",
              "      <td>0</td>\n",
              "    </tr>\n",
              "    <tr>\n",
              "      <th>costo</th>\n",
              "      <td>0</td>\n",
              "    </tr>\n",
              "    <tr>\n",
              "      <th>fecha_inicio</th>\n",
              "      <td>0</td>\n",
              "    </tr>\n",
              "    <tr>\n",
              "      <th>fecha_fin</th>\n",
              "      <td>0</td>\n",
              "    </tr>\n",
              "  </tbody>\n",
              "</table>\n",
              "</div><br><label><b>dtype:</b> int64</label>"
            ]
          },
          "metadata": {},
          "execution_count": 156
        }
      ]
    },
    {
      "cell_type": "code",
      "source": [
        "# Visualizar los nulos ==> NO EXISTEN datos nulos!!!!\n",
        "# df_ventas[df_ventas.isnull().any(axis=1)]\n",
        "df_marketing[df_marketing.isnull().any(axis=1)]"
      ],
      "metadata": {
        "id": "3vRSq5M0iiee",
        "colab": {
          "base_uri": "https://localhost:8080/",
          "height": 53
        },
        "outputId": "a20810bd-b8d5-4e03-f36b-2434149ef272"
      },
      "execution_count": null,
      "outputs": [
        {
          "output_type": "execute_result",
          "data": {
            "text/plain": [
              "Empty DataFrame\n",
              "Columns: [id_campanha, producto, canal, costo, fecha_inicio, fecha_fin]\n",
              "Index: []"
            ],
            "text/html": [
              "\n",
              "  <div id=\"df-186896fb-8368-4af6-b8a4-76dc4b0ad8bb\" class=\"colab-df-container\">\n",
              "    <div>\n",
              "<style scoped>\n",
              "    .dataframe tbody tr th:only-of-type {\n",
              "        vertical-align: middle;\n",
              "    }\n",
              "\n",
              "    .dataframe tbody tr th {\n",
              "        vertical-align: top;\n",
              "    }\n",
              "\n",
              "    .dataframe thead th {\n",
              "        text-align: right;\n",
              "    }\n",
              "</style>\n",
              "<table border=\"1\" class=\"dataframe\">\n",
              "  <thead>\n",
              "    <tr style=\"text-align: right;\">\n",
              "      <th></th>\n",
              "      <th>id_campanha</th>\n",
              "      <th>producto</th>\n",
              "      <th>canal</th>\n",
              "      <th>costo</th>\n",
              "      <th>fecha_inicio</th>\n",
              "      <th>fecha_fin</th>\n",
              "    </tr>\n",
              "  </thead>\n",
              "  <tbody>\n",
              "  </tbody>\n",
              "</table>\n",
              "</div>\n",
              "    <div class=\"colab-df-buttons\">\n",
              "\n",
              "  <div class=\"colab-df-container\">\n",
              "    <button class=\"colab-df-convert\" onclick=\"convertToInteractive('df-186896fb-8368-4af6-b8a4-76dc4b0ad8bb')\"\n",
              "            title=\"Convert this dataframe to an interactive table.\"\n",
              "            style=\"display:none;\">\n",
              "\n",
              "  <svg xmlns=\"http://www.w3.org/2000/svg\" height=\"24px\" viewBox=\"0 -960 960 960\">\n",
              "    <path d=\"M120-120v-720h720v720H120Zm60-500h600v-160H180v160Zm220 220h160v-160H400v160Zm0 220h160v-160H400v160ZM180-400h160v-160H180v160Zm440 0h160v-160H620v160ZM180-180h160v-160H180v160Zm440 0h160v-160H620v160Z\"/>\n",
              "  </svg>\n",
              "    </button>\n",
              "\n",
              "  <style>\n",
              "    .colab-df-container {\n",
              "      display:flex;\n",
              "      gap: 12px;\n",
              "    }\n",
              "\n",
              "    .colab-df-convert {\n",
              "      background-color: #E8F0FE;\n",
              "      border: none;\n",
              "      border-radius: 50%;\n",
              "      cursor: pointer;\n",
              "      display: none;\n",
              "      fill: #1967D2;\n",
              "      height: 32px;\n",
              "      padding: 0 0 0 0;\n",
              "      width: 32px;\n",
              "    }\n",
              "\n",
              "    .colab-df-convert:hover {\n",
              "      background-color: #E2EBFA;\n",
              "      box-shadow: 0px 1px 2px rgba(60, 64, 67, 0.3), 0px 1px 3px 1px rgba(60, 64, 67, 0.15);\n",
              "      fill: #174EA6;\n",
              "    }\n",
              "\n",
              "    .colab-df-buttons div {\n",
              "      margin-bottom: 4px;\n",
              "    }\n",
              "\n",
              "    [theme=dark] .colab-df-convert {\n",
              "      background-color: #3B4455;\n",
              "      fill: #D2E3FC;\n",
              "    }\n",
              "\n",
              "    [theme=dark] .colab-df-convert:hover {\n",
              "      background-color: #434B5C;\n",
              "      box-shadow: 0px 1px 3px 1px rgba(0, 0, 0, 0.15);\n",
              "      filter: drop-shadow(0px 1px 2px rgba(0, 0, 0, 0.3));\n",
              "      fill: #FFFFFF;\n",
              "    }\n",
              "  </style>\n",
              "\n",
              "    <script>\n",
              "      const buttonEl =\n",
              "        document.querySelector('#df-186896fb-8368-4af6-b8a4-76dc4b0ad8bb button.colab-df-convert');\n",
              "      buttonEl.style.display =\n",
              "        google.colab.kernel.accessAllowed ? 'block' : 'none';\n",
              "\n",
              "      async function convertToInteractive(key) {\n",
              "        const element = document.querySelector('#df-186896fb-8368-4af6-b8a4-76dc4b0ad8bb');\n",
              "        const dataTable =\n",
              "          await google.colab.kernel.invokeFunction('convertToInteractive',\n",
              "                                                    [key], {});\n",
              "        if (!dataTable) return;\n",
              "\n",
              "        const docLinkHtml = 'Like what you see? Visit the ' +\n",
              "          '<a target=\"_blank\" href=https://colab.research.google.com/notebooks/data_table.ipynb>data table notebook</a>'\n",
              "          + ' to learn more about interactive tables.';\n",
              "        element.innerHTML = '';\n",
              "        dataTable['output_type'] = 'display_data';\n",
              "        await google.colab.output.renderOutput(dataTable, element);\n",
              "        const docLink = document.createElement('div');\n",
              "        docLink.innerHTML = docLinkHtml;\n",
              "        element.appendChild(docLink);\n",
              "      }\n",
              "    </script>\n",
              "  </div>\n",
              "\n",
              "\n",
              "    </div>\n",
              "  </div>\n"
            ],
            "application/vnd.google.colaboratory.intrinsic+json": {
              "type": "dataframe",
              "repr_error": "Out of range float values are not JSON compliant: nan"
            }
          },
          "metadata": {},
          "execution_count": 160
        }
      ]
    },
    {
      "cell_type": "code",
      "source": [
        "# Analizar los precios de los NaN a ver que opciones tenemos\n",
        "#df_ventas[df_ventas[\"producto\"]==\"Elementos de cerámica\"]\n",
        "#df_ventas[df_ventas[\"fecha_inicio\"]==\"Elementos de cerámica\"]\n",
        "df_marketing[\"fecha_inicio\"].value_counts()\n",
        "#df_marketing[\"producto\"].unique()"
      ],
      "metadata": {
        "id": "37gEncuNiiee",
        "colab": {
          "base_uri": "https://localhost:8080/",
          "height": 490
        },
        "outputId": "963dd049-10cb-472d-e112-e04e1ae3747c"
      },
      "execution_count": null,
      "outputs": [
        {
          "output_type": "execute_result",
          "data": {
            "text/plain": [
              "fecha_inicio\n",
              "2024-09-25    2\n",
              "2024-12-13    2\n",
              "2024-11-23    2\n",
              "2024-11-03    2\n",
              "2024-11-01    2\n",
              "             ..\n",
              "2024-11-16    1\n",
              "2024-11-27    1\n",
              "2024-12-17    1\n",
              "2024-12-20    1\n",
              "2024-12-29    1\n",
              "Name: count, Length: 78, dtype: int64"
            ],
            "text/html": [
              "<div>\n",
              "<style scoped>\n",
              "    .dataframe tbody tr th:only-of-type {\n",
              "        vertical-align: middle;\n",
              "    }\n",
              "\n",
              "    .dataframe tbody tr th {\n",
              "        vertical-align: top;\n",
              "    }\n",
              "\n",
              "    .dataframe thead th {\n",
              "        text-align: right;\n",
              "    }\n",
              "</style>\n",
              "<table border=\"1\" class=\"dataframe\">\n",
              "  <thead>\n",
              "    <tr style=\"text-align: right;\">\n",
              "      <th></th>\n",
              "      <th>count</th>\n",
              "    </tr>\n",
              "    <tr>\n",
              "      <th>fecha_inicio</th>\n",
              "      <th></th>\n",
              "    </tr>\n",
              "  </thead>\n",
              "  <tbody>\n",
              "    <tr>\n",
              "      <th>2024-09-25</th>\n",
              "      <td>2</td>\n",
              "    </tr>\n",
              "    <tr>\n",
              "      <th>2024-12-13</th>\n",
              "      <td>2</td>\n",
              "    </tr>\n",
              "    <tr>\n",
              "      <th>2024-11-23</th>\n",
              "      <td>2</td>\n",
              "    </tr>\n",
              "    <tr>\n",
              "      <th>2024-11-03</th>\n",
              "      <td>2</td>\n",
              "    </tr>\n",
              "    <tr>\n",
              "      <th>2024-11-01</th>\n",
              "      <td>2</td>\n",
              "    </tr>\n",
              "    <tr>\n",
              "      <th>...</th>\n",
              "      <td>...</td>\n",
              "    </tr>\n",
              "    <tr>\n",
              "      <th>2024-11-16</th>\n",
              "      <td>1</td>\n",
              "    </tr>\n",
              "    <tr>\n",
              "      <th>2024-11-27</th>\n",
              "      <td>1</td>\n",
              "    </tr>\n",
              "    <tr>\n",
              "      <th>2024-12-17</th>\n",
              "      <td>1</td>\n",
              "    </tr>\n",
              "    <tr>\n",
              "      <th>2024-12-20</th>\n",
              "      <td>1</td>\n",
              "    </tr>\n",
              "    <tr>\n",
              "      <th>2024-12-29</th>\n",
              "      <td>1</td>\n",
              "    </tr>\n",
              "  </tbody>\n",
              "</table>\n",
              "<p>78 rows × 1 columns</p>\n",
              "</div><br><label><b>dtype:</b> int64</label>"
            ]
          },
          "metadata": {},
          "execution_count": 163
        }
      ]
    },
    {
      "cell_type": "markdown",
      "source": [
        "### DF marketing --> Observaciones\n",
        "* Cantidad de registros: 90\n",
        "* Columnas 6 (\"id_campanha\", \"producto\", \"canal\", \"costo\", \"fecha_inicio\" y \"fecha_fin\")\n",
        "* No existen duplicados\n",
        "* No existen valores nulos\n"
      ],
      "metadata": {
        "id": "R2J6fL5BlYlW"
      }
    },
    {
      "cell_type": "markdown",
      "source": [
        "# Etapa 2\n",
        "## Limpieza de datos\n",
        "#Actividad 1\n",
        "Limpiar el conjunto de datos eliminando duplicados y caracteres no deseados. Documentar el proceso y los resultados."
      ],
      "metadata": {
        "id": "sU6CuHcpl7iM"
      }
    },
    {
      "cell_type": "markdown",
      "source": [
        "# DATAFRAME ventas\n",
        "##  Limpieza de datos: tareas\n",
        "\n",
        "* 35 duplicados  ==> deben ser eliminados!\n",
        "* Algunos nulos (2), 1% del faltante, dropna\n",
        "* Campo precio: incluye el signo $ ==> debe ser removido y luego cambiar el dtype a float64.\n",
        "* Campo fecha: No posee el formato adecuado ==> debe ser ajustada a dtype datetime"
      ],
      "metadata": {
        "id": "ck1eERxqrew4"
      }
    },
    {
      "cell_type": "code",
      "source": [
        "# Eliminamos registros duplicados\n",
        "# atributos a evaluar, keep, ignore_index, inplace\n",
        "df_ventas.drop_duplicates(inplace=True, ignore_index=True)"
      ],
      "metadata": {
        "id": "zhz6fX2Qnc4q"
      },
      "execution_count": null,
      "outputs": []
    },
    {
      "cell_type": "markdown",
      "source": [],
      "metadata": {
        "id": "kIrt2a_vrrRp"
      }
    },
    {
      "cell_type": "code",
      "source": [
        "# Validamos que no haya duplicados\n",
        "df_ventas.duplicated().sum()"
      ],
      "metadata": {
        "id": "wHFfd-gTnkrp",
        "colab": {
          "base_uri": "https://localhost:8080/"
        },
        "outputId": "e42c9bcc-044d-4a02-9787-1298c635a8b1"
      },
      "execution_count": null,
      "outputs": [
        {
          "output_type": "execute_result",
          "data": {
            "text/plain": [
              "np.int64(0)"
            ]
          },
          "metadata": {},
          "execution_count": 167
        }
      ]
    },
    {
      "cell_type": "code",
      "source": [
        "# Eliminamos registros con datos nulos\n",
        "df_ventas.dropna(inplace=True)"
      ],
      "metadata": {
        "id": "W0uJSUZ1nrLz"
      },
      "execution_count": null,
      "outputs": []
    },
    {
      "cell_type": "code",
      "source": [
        "# Validamos que no haya nulos  =>\n",
        "# df_ventas.isnull().sum()\n",
        "df_ventas.info()"
      ],
      "metadata": {
        "id": "XLujCapjnumO",
        "colab": {
          "base_uri": "https://localhost:8080/"
        },
        "outputId": "e0d1067e-9d04-435f-8cfe-093ef17f4c7d"
      },
      "execution_count": null,
      "outputs": [
        {
          "output_type": "stream",
          "name": "stdout",
          "text": [
            "<class 'pandas.core.frame.DataFrame'>\n",
            "RangeIndex: 2998 entries, 0 to 2997\n",
            "Data columns (total 7 columns):\n",
            " #   Column       Non-Null Count  Dtype         \n",
            "---  ------       --------------  -----         \n",
            " 0   id_venta     2998 non-null   int64         \n",
            " 1   producto     2998 non-null   object        \n",
            " 2   precio       2998 non-null   float64       \n",
            " 3   cantidad     2998 non-null   int64         \n",
            " 4   fecha_venta  2998 non-null   datetime64[ns]\n",
            " 5   categoria    2998 non-null   object        \n",
            " 6   valor_venta  2998 non-null   float64       \n",
            "dtypes: datetime64[ns](1), float64(2), int64(2), object(2)\n",
            "memory usage: 164.1+ KB\n"
          ]
        }
      ]
    },
    {
      "cell_type": "code",
      "source": [
        "# Eliminamos el caracter especial $ de precio\n",
        "# Normalización: usar replace()\n",
        "# De ser necesario, podemos usar el atributo regex=True\n",
        "df_ventas[\"precio\"] = df_ventas[\"precio\"].str.strip().str.replace(\"$\", \"\")"
      ],
      "metadata": {
        "id": "vxVYNVTZnx-u"
      },
      "execution_count": null,
      "outputs": []
    },
    {
      "cell_type": "code",
      "source": [
        "# Validamos que precio no contenga $\n",
        "df_ventas[\"precio\"].sample(3)"
      ],
      "metadata": {
        "id": "oluIKeP2n1Kl"
      },
      "execution_count": null,
      "outputs": []
    },
    {
      "cell_type": "code",
      "source": [
        "# Convertimos precio de str a float\n",
        "# Podemos usar pd.to_numeric o astype o incluso combinarlos\n",
        "df_ventas[\"precio\"] = df_ventas[\"precio\"].astype(float)"
      ],
      "metadata": {
        "id": "O8PZXj9un4Nz"
      },
      "execution_count": null,
      "outputs": []
    },
    {
      "cell_type": "code",
      "source": [
        "# Convertir el dtype de cantidad, de float64 a int64\n",
        "df_ventas[\"cantidad\"]= df_ventas[\"cantidad\"].astype(int)"
      ],
      "metadata": {
        "id": "N6RQ3sU6n7tI"
      },
      "execution_count": null,
      "outputs": []
    },
    {
      "cell_type": "code",
      "source": [
        "# Validar la conversion a int\n",
        "df_ventas[\"cantidad\"].dtypes"
      ],
      "metadata": {
        "id": "aRBNSDzkn-XI"
      },
      "execution_count": null,
      "outputs": []
    },
    {
      "cell_type": "code",
      "source": [
        "# Convertir el campo fecha_venta a dtype datetime\n",
        "# pd.to_datetime(df_ventas[\"fecha_venta\"], format=\"%d/%m/%Y\")\n",
        "# pd.to_datetime(df_ventas[\"fecha_venta\"], dayfirst=True)\n",
        "df_ventas['fecha_venta'] = pd.to_datetime(df_ventas['fecha_venta'], format=\"%d/%m/%Y\")"
      ],
      "metadata": {
        "id": "GJNQpn-1oBSP"
      },
      "execution_count": null,
      "outputs": []
    },
    {
      "cell_type": "code",
      "source": [
        "# Validar la conversion de fecha\n",
        "df_ventas['fecha_venta'].dtype"
      ],
      "metadata": {
        "id": "A37EMxYYoHJF"
      },
      "execution_count": null,
      "outputs": []
    },
    {
      "cell_type": "markdown",
      "source": [],
      "metadata": {
        "id": "AuwmJqXrm7ld"
      }
    },
    {
      "cell_type": "markdown",
      "source": [
        "# DATAFRAME clientes\n",
        "##  Limpieza de datos: tareas\n",
        "\n",
        "\n",
        "* 35 duplicados, eliminarlos - se eliminaron 35 duplicados\n",
        "* Algunos nulos (2), 1% del faltante, dropna - se eliminaron 2 registros con 2 NaN\n",
        "* Campo precio: encontre $, removerlo y luego cambiar el dtype a float64 - Ok\n",
        "* Campo fecha: ajustar a dtype datetime - Ok"
      ],
      "metadata": {
        "id": "xuHfWQ5km780"
      }
    },
    {
      "cell_type": "markdown",
      "source": [],
      "metadata": {
        "id": "65NGQEdgm8b8"
      }
    },
    {
      "cell_type": "markdown",
      "source": [
        "# DATAFRAME marketing\n",
        "##  Limpieza de datos: tareas\n",
        "\n",
        "\n",
        "* 35 duplicados, eliminarlos - se eliminaron 35 duplicados\n",
        "* Algunos nulos (2), 1% del faltante, dropna - se eliminaron 2 registros con 2 NaN\n",
        "* Campo precio: encontre $, removerlo y luego cambiar el dtype a float64 - Ok\n",
        "* Campo fecha: ajustar a dtype datetime - Ok\n",
        "\n",
        "* Convertir a datetime fecha_inicio / fecha_fin"
      ],
      "metadata": {
        "id": "nfUSHhXMm8ov"
      }
    },
    {
      "cell_type": "code",
      "source": [
        "df_marketing.info()"
      ],
      "metadata": {
        "id": "xTcsLNacoVsq"
      },
      "execution_count": null,
      "outputs": []
    },
    {
      "cell_type": "code",
      "source": [
        "# Convertir el campo fecha_inicio a dtype datetime\n",
        "df_marketing['fecha_inicio'] = pd.to_datetime(df_marketing['fecha_inicio'], format=\"%d/%m/%Y\")"
      ],
      "metadata": {
        "id": "gnudrabDoYa8"
      },
      "execution_count": null,
      "outputs": []
    },
    {
      "cell_type": "code",
      "source": [
        "# Convertir el campo fecha_fin a dtype datetime\n",
        "df_marketing['fecha_fin'] = pd.to_datetime(df_marketing['fecha_fin'], format=\"%d/%m/%Y\")"
      ],
      "metadata": {
        "id": "fw2gJBdmoa3h"
      },
      "execution_count": null,
      "outputs": []
    },
    {
      "cell_type": "code",
      "source": [
        "# Validamos los cambios"
      ],
      "metadata": {
        "id": "SJyJIRDyoeIH"
      },
      "execution_count": null,
      "outputs": []
    },
    {
      "cell_type": "markdown",
      "source": [],
      "metadata": {
        "id": "wpAmgY0yo4s1"
      }
    },
    {
      "cell_type": "markdown",
      "source": [
        "# Etapa 2\n",
        "## Transformación de datos\n",
        "#Actividad 2\n",
        "\n",
        "Aplicar filtros y transformaciones para crear una tabla de ventas que muestre solo los productos con alto rendimiento."
      ],
      "metadata": {
        "id": "mjifira_o5Hi"
      }
    },
    {
      "cell_type": "code",
      "source": [
        "df_ventas.head(2)"
      ],
      "metadata": {
        "id": "_37L8vRIpuM_"
      },
      "execution_count": null,
      "outputs": []
    },
    {
      "cell_type": "code",
      "source": [
        "# Transformación:\n",
        "# Calculamos el valor de cada venta = precio * cantidad\n",
        "# Agregamos una nueva columnas\n",
        "df_ventas[\"valor_venta\"] = df_ventas[\"precio\"] * df_ventas[\"cantidad\"]"
      ],
      "metadata": {
        "id": "xIqqh-aVpwm7"
      },
      "execution_count": null,
      "outputs": []
    },
    {
      "cell_type": "code",
      "source": [
        "# Visualizamos\n",
        "df_ventas.head(2)"
      ],
      "metadata": {
        "id": "Glxr3n_lpzH9"
      },
      "execution_count": null,
      "outputs": []
    },
    {
      "cell_type": "code",
      "source": [
        "# Agregación:\n",
        "# Agrupar valor_venta por producto\n",
        "# Sumamos las ventas dentro de cada grupo\n",
        "tabla_ventas = (df_ventas.groupby(\"producto\", as_index=False)[\"valor_venta\"].sum())\n",
        "tabla_ventas.head()"
      ],
      "metadata": {
        "id": "wf8cstjbp1ha"
      },
      "execution_count": null,
      "outputs": []
    },
    {
      "cell_type": "code",
      "source": [
        "# Usemos describe para analizar algunos valores del dataframe resultante\n",
        "tabla_ventas.describe()"
      ],
      "metadata": {
        "id": "JpvbAQVwp4CS"
      },
      "execution_count": null,
      "outputs": []
    },
    {
      "cell_type": "code",
      "source": [
        "# Agregamos un plot para visualizar graficamente la distribución\n",
        "import seaborn as sns\n",
        "import matplotlib.pyplot as plt\n",
        "\n",
        "sns.histplot(tabla_ventas[\"valor_venta\"], bins=30, kde=True, edgecolor=\"black\")\n",
        "plt.title(\"Distribución de Valor de Venta con Curva de Densidad\")\n",
        "plt.xlabel(\"Valor de venta\")\n",
        "plt.ylabel(\"Frecuencia\")\n",
        "plt.show()"
      ],
      "metadata": {
        "id": "g6OmSzl7p6YX"
      },
      "execution_count": null,
      "outputs": []
    },
    {
      "cell_type": "code",
      "source": [
        "# Calcular el percentil 75 (umbral de alto rendimiento)\n",
        "umbral_ventas = tabla_ventas[\"valor_venta\"].quantile(0.75)\n",
        "umbral_ventas"
      ],
      "metadata": {
        "id": "DoY3wLRZp9Gv"
      },
      "execution_count": null,
      "outputs": []
    },
    {
      "cell_type": "code",
      "source": [
        "# Identificar productos que superan el umbral\n",
        "# productos_top = tabla_ventas.query(\"valor_venta >= @umbral\")\n",
        "productos_top = tabla_ventas[tabla_ventas[\"valor_venta\"] >= umbral_ventas]\n",
        "productos_top"
      ],
      "metadata": {
        "id": "_JpLxcWbp_yk"
      },
      "execution_count": null,
      "outputs": []
    },
    {
      "cell_type": "markdown",
      "source": [],
      "metadata": {
        "id": "JqHZhwLcpMmJ"
      }
    },
    {
      "cell_type": "markdown",
      "source": [
        "# Etapa 2\n",
        "## Agregación de datos\n",
        "#Actividad 3\n",
        "\n",
        " Resumir las ventas por categoría de producto y analizar los ingresos generados."
      ],
      "metadata": {
        "id": "9jHddaRJpNAn"
      }
    },
    {
      "cell_type": "code",
      "source": [
        "df_ventas.columns"
      ],
      "metadata": {
        "id": "QxKniOpvphRW"
      },
      "execution_count": null,
      "outputs": []
    },
    {
      "cell_type": "code",
      "source": [
        "# Agrupamos por categoria y agregamos la suma\n",
        "ventas_categoria = df_ventas.groupby(\"categoria\", as_index=False)[\"valor_venta\"].sum()\n",
        "ventas_categoria.head()"
      ],
      "metadata": {
        "id": "Lo5ejTCPpkKJ"
      },
      "execution_count": null,
      "outputs": []
    },
    {
      "cell_type": "code",
      "source": [
        "ventas_categoria"
      ],
      "metadata": {
        "id": "bVelU10WpmRN"
      },
      "execution_count": null,
      "outputs": []
    },
    {
      "cell_type": "code",
      "source": [
        "# Ordenar y mostrar los resultados\n",
        "ventas_categoria"
      ],
      "metadata": {
        "id": "Wikrda-NpotN"
      },
      "execution_count": null,
      "outputs": []
    },
    {
      "cell_type": "markdown",
      "source": [],
      "metadata": {
        "id": "i5h2uuB8qFrC"
      }
    },
    {
      "cell_type": "markdown",
      "source": [
        "# Etapa 2\n",
        "## Integración de datos\n",
        "#Actividad 4\n",
        "\n",
        " Combinar los sets de datos de ventas y marketing para obtener una visión más amplia de las tendencias."
      ],
      "metadata": {
        "id": "WEjer6-cqGCI"
      }
    },
    {
      "cell_type": "code",
      "source": [
        "df_ventas.info()"
      ],
      "metadata": {
        "id": "4ShTNf5TqTc7"
      },
      "execution_count": null,
      "outputs": []
    },
    {
      "cell_type": "code",
      "source": [
        "df_marketing.info()"
      ],
      "metadata": {
        "id": "mCFlVaISqVob"
      },
      "execution_count": null,
      "outputs": []
    },
    {
      "cell_type": "code",
      "source": [
        "# Vemos la cantidad de productos unicos en ventas\n",
        "df_ventas[\"producto\"].nunique()"
      ],
      "metadata": {
        "id": "6LEQFL42qYtD"
      },
      "execution_count": null,
      "outputs": []
    },
    {
      "cell_type": "code",
      "source": [
        "# Vemos la cantidad de productos unicos en marketing\n",
        "df_marketing[\"producto\"].nunique()"
      ],
      "metadata": {
        "id": "FKx8-S36qbG8"
      },
      "execution_count": null,
      "outputs": []
    },
    {
      "cell_type": "code",
      "source": [
        "# Listamos los registros de ventas ordenados por producto ascendiente\n",
        "df_ventas.sort_values(by=\"producto\", ascending=True )"
      ],
      "metadata": {
        "id": "GWI3c0cdqdV2"
      },
      "execution_count": null,
      "outputs": []
    },
    {
      "cell_type": "code",
      "source": [
        "# Listamos los registros de marketing ordenados por producto ascendiente\n",
        "df_marketing.sort_values(by=[\"producto\",\"canal\"])"
      ],
      "metadata": {
        "id": "F52-7cIOqfss"
      },
      "execution_count": null,
      "outputs": []
    },
    {
      "cell_type": "code",
      "source": [
        "# Para evitar duplicados, habria que agrupar marketing antes de hacer el merge (a costa de perder la fecha)\n",
        "df_marketing_avg = df_marketing.groupby([\"producto\"], as_index=False)[\"costo\"].mean()\n",
        "df_marketing_avg"
      ],
      "metadata": {
        "id": "Q1u3VZdPqh1o"
      },
      "execution_count": null,
      "outputs": []
    },
    {
      "cell_type": "code",
      "source": [
        "# Unir los datasets ventas y marketing por columna 'producto'\n",
        "# Aqui tienen dos caminos, unir ventas con df_marketing que tiene duplicados\n",
        "ventas_marketing = pd.merge(df_ventas, df_marketing, on=\"producto\", how=\"left\")\n",
        "# O, unir ventar con df_marketing_avg que no tiene duplicados, pero no tiene fechas\n",
        "# ventas_marketing = pd.merge(df_ventas, df_marketing_avg, on=\"producto\", how=\"inner\")"
      ],
      "metadata": {
        "id": "ozSJveC-qk1P"
      },
      "execution_count": null,
      "outputs": []
    },
    {
      "cell_type": "code",
      "source": [
        "# Verificar coincidencias (muestra)\n",
        "ventas_marketing.sort_values(by=[\"producto\", \"precio\"], ascending=True)\n",
        "\n",
        "# Nota1: si unieron ventas con marketing, obtienen 8994 registros\n",
        "# Nota2: si unieron ventas con marketing_avg obtienen 2998 registros"
      ],
      "metadata": {
        "id": "1C-OM74oqnd7"
      },
      "execution_count": null,
      "outputs": []
    },
    {
      "cell_type": "markdown",
      "source": [],
      "metadata": {
        "id": "G19p68IBqu0B"
      }
    },
    {
      "cell_type": "markdown",
      "source": [
        "# ANÁLISIS DEL IMPACTO DE CAMPAÑA\n",
        "\n",
        "Ver"
      ],
      "metadata": {
        "id": "ECBRgbDvqvQV"
      }
    },
    {
      "cell_type": "code",
      "source": [
        "# Nos quedamos solo con los registros de ventas durante la campaña de marketing\n",
        "# Nota: si trabajan con el datafrane marketing pueden aplicar el filtro,\n",
        "# si trabajan con dataframe marketing_avg, al no tener fecha, no apliquen el filtro.\n",
        "\n",
        "ganancias_marketing = ventas_marketing.query(\"fecha_venta > fecha_inicio & fecha_venta < fecha_fin\")\n",
        "\n",
        "# Seleccionamos solo los campos que nos interesan: \"producto\", \"valor_venta\", \"costo\"\n",
        "ganancias_marketing = ganancias_marketing[[\"producto\", \"valor_venta\", \"costo\"]]\n",
        "ganancias_marketing.sort_values(by=\"producto\", ascending=True)"
      ],
      "metadata": {
        "id": "cW3VG9tarWyP"
      },
      "execution_count": null,
      "outputs": []
    },
    {
      "cell_type": "code",
      "source": [
        "# Agrupamos por producto y hacemos una agregación por \"valor de venta\" y \"costo\"\n",
        "ganancias_marketing = ganancias_marketing.groupby(\"producto\")[[\"valor_venta\",\"costo\"]].sum()"
      ],
      "metadata": {
        "id": "NftP3unbrZPv"
      },
      "execution_count": null,
      "outputs": []
    },
    {
      "cell_type": "code",
      "source": [
        "# Generamos una nueva columna con la diferencia entre lo vendido y lo invertido en la campaña\n",
        "ganancias_marketing[\"ganancia_neta\"] = ganancias_marketing['valor_venta']-ganancias_marketing['costo']\n",
        "ganancias_marketing=ganancias_marketing.sort_values(by=\"ganancia_neta\", ascending=False)"
      ],
      "metadata": {
        "id": "pMMTF-dIrcA5"
      },
      "execution_count": null,
      "outputs": []
    },
    {
      "cell_type": "code",
      "source": [
        "# Crear un gráfico de barras apilado para comparar valor_venta y costo por producto\n",
        "ganancias_marketing[[\"valor_venta\", \"costo\"]].plot(kind='bar', stacked=True, figsize=(12, 6))\n",
        "plt.title(\"Comparación de Valor de Venta y Costo por Producto\")\n",
        "plt.xlabel(\"Producto\")\n",
        "plt.ylabel(\"Monto\")\n",
        "plt.xticks(rotation=90)\n",
        "plt.tight_layout()\n",
        "plt.show()\n"
      ],
      "metadata": {
        "id": "VN9VcbyprelG"
      },
      "execution_count": null,
      "outputs": []
    },
    {
      "cell_type": "markdown",
      "source": [],
      "metadata": {
        "id": "r36-Vkdgrg7h"
      }
    },
    {
      "cell_type": "markdown",
      "source": [
        "# Solución al problema de los duplicados\n",
        "\n",
        "Ver"
      ],
      "metadata": {
        "id": "-l2nkZy7rhU6"
      }
    },
    {
      "cell_type": "code",
      "source": [
        "# Hacemos el merge entre marketing y ventas por columna producto\n",
        "marketing_ventas = pd.merge(df_marketing, df_ventas, on=\"producto\", how=\"inner\")\n",
        "marketing_ventas.sort_values(by=\"producto\", ascending=True)"
      ],
      "metadata": {
        "id": "9mZ07PT_rnXt"
      },
      "execution_count": null,
      "outputs": []
    },
    {
      "cell_type": "code",
      "source": [
        "# filtramos solo aquellos productos que se hayan vendido dentro de la campaña\n",
        "marketing_ventas_pp1 = marketing_ventas.query(\"fecha_venta > fecha_inicio & fecha_venta < fecha_fin\")"
      ],
      "metadata": {
        "id": "09Kcw4airp0G"
      },
      "execution_count": null,
      "outputs": []
    },
    {
      "cell_type": "code",
      "source": [
        "# Calculamos el total_ventas por producto haciendo valor_venta * cantidad\n",
        "marketing_ventas_pp2 = marketing_ventas_pp1.copy() # para eliminar la advertencia\n",
        "marketing_ventas_pp2[\"total_venta\"] = (\n",
        "    marketing_ventas_pp2[\"valor_venta\"] * marketing_ventas_pp2[\"cantidad\"]"
      ],
      "metadata": {
        "id": "6LR_oiiIrsOJ"
      },
      "execution_count": null,
      "outputs": []
    },
    {
      "cell_type": "code",
      "source": [
        "# Agrupamos el dataframe por producto usando .agg\n",
        "# Agregar total_venta como el promedio, elimina el impacto de los datos duplicados\n",
        "# Y seguimos agegando costo como la suma de lo invertido en cada canal\n",
        "ganancias_marketing = marketing_ventas_pp2.groupby(\"producto\").agg(\n",
        "    {\n",
        "        \"total_venta\": \"mean\",\n",
        "        \"costo\": \"sum\",\n",
        "    }\n",
        ")"
      ],
      "metadata": {
        "id": "FQrATHrarvZa"
      },
      "execution_count": null,
      "outputs": []
    },
    {
      "cell_type": "code",
      "source": [
        "# A partir de venta_total y costo, calculamos la ganancia obtenida\n",
        "ganancias_marketing[\"ganancia\"]= ganancias_marketing[\"total_venta\"]-ganancias_marketing[\"costo\"]\n",
        "ganancias_marketing = ganancias_marketing.sort_values(by=\"ganancia\", ascending=False)\n",
        "ganancias_marketing.head(3)"
      ],
      "metadata": {
        "id": "-xmcK5x1rxwv"
      },
      "execution_count": null,
      "outputs": []
    },
    {
      "cell_type": "code",
      "source": [
        "# Crear un gráfico de barras apilado para comparar valor_venta y costo por producto\n",
        "ganancias_marketing[[\"total_venta\", \"costo\"]].plot(kind='bar', stacked=True, figsize=(12, 6))\n",
        "plt.title(\"Comparación de Valor de Venta y Costo por Producto\")\n",
        "plt.xlabel(\"Producto\")\n",
        "plt.ylabel(\"Monto\")\n",
        "plt.xticks(rotation=90)\n",
        "plt.tight_layout()\n",
        "plt.show()"
      ],
      "metadata": {
        "id": "FpX7aYjWr1R4"
      },
      "execution_count": null,
      "outputs": []
    },
    {
      "cell_type": "markdown",
      "source": [
        "Ahora en el gráfico los costos de campañas de marketing sin más signficativos."
      ],
      "metadata": {
        "id": "Ctogs4hHr334"
      }
    }
  ]
}